{
 "cells": [
  {
   "cell_type": "markdown",
   "metadata": {},
   "source": [
    "<div style=\"background-color: #FAD4C0; padding: 20px; border-radius: 10px; box-shadow: 5px 5px 10px #888888;\">\n",
    "  <h1 style=\"color: black; font-size: 40px; font-weight: bold; text-align: center; text-shadow: 1px 1px 1px #000000;\">Problem Statement 7: Team Goal Analysis\n",
    "</h1>\n",
    "</div>"
   ]
  },
  {
   "cell_type": "markdown",
   "metadata": {},
   "source": [
    "# Importing required libraries"
   ]
  },
  {
   "cell_type": "code",
   "execution_count": 12,
   "metadata": {},
   "outputs": [],
   "source": [
    "import plotly.express as px\n",
    "import pandas as pd\n",
    "import seaborn as sns\n",
    "import matplotlib.pyplot as plt\n"
   ]
  },
  {
   "cell_type": "markdown",
   "metadata": {},
   "source": [
    "# Identifying the team with highest number of goals "
   ]
  },
  {
   "cell_type": "code",
   "execution_count": 3,
   "metadata": {},
   "outputs": [
    {
     "name": "stdout",
     "output_type": "stream",
     "text": [
      "Team with the highest number of goals: Team B\n",
      "Team\n",
      "Team A    159226.0\n",
      "Team B    167190.0\n",
      "Team C    159316.0\n",
      "Name: Goals, dtype: float64\n"
     ]
    }
   ],
   "source": [
    "df = pd.read_csv(\"new_sports.csv\")\n",
    "\n",
    "team_goals = df.groupby('Team')['Goals'].sum()\n",
    "top_team = team_goals.idxmax()\n",
    "print(\"Team with the highest number of goals:\", top_team)\n",
    "print(team_goals)\n"
   ]
  },
  {
   "cell_type": "markdown",
   "metadata": {},
   "source": [
    "# Creating a horizontal bar plot  for the goals scored by each team."
   ]
  },
  {
   "cell_type": "code",
   "execution_count": 4,
   "metadata": {},
   "outputs": [
    {
     "data": {
      "application/vnd.plotly.v1+json": {
       "config": {
        "plotlyServerURL": "https://plot.ly"
       },
       "data": [
        {
         "alignmentgroup": "True",
         "hovertemplate": "Total Goals=%{x}<br>Team=%{y}<br>Season=%{marker.color}<extra></extra>",
         "legendgroup": "",
         "marker": {
          "color": [
           2019,
           2020,
           2021,
           2022,
           2019,
           2020,
           2021,
           2022,
           2019,
           2020,
           2021,
           2022
          ],
          "coloraxis": "coloraxis",
          "pattern": {
           "shape": ""
          }
         },
         "name": "",
         "offsetgroup": "",
         "orientation": "h",
         "showlegend": false,
         "textposition": "auto",
         "type": "bar",
         "x": [
          42356,
          37258,
          38540,
          41072,
          38752,
          44660,
          43804,
          39974,
          47391,
          38239,
          37016,
          36670
         ],
         "xaxis": "x",
         "y": [
          "Team A",
          "Team A",
          "Team A",
          "Team A",
          "Team B",
          "Team B",
          "Team B",
          "Team B",
          "Team C",
          "Team C",
          "Team C",
          "Team C"
         ],
         "yaxis": "y"
        }
       ],
       "layout": {
        "barmode": "relative",
        "coloraxis": {
         "colorbar": {
          "title": {
           "text": "Season"
          }
         },
         "colorscale": [
          [
           0,
           "#0d0887"
          ],
          [
           0.1111111111111111,
           "#46039f"
          ],
          [
           0.2222222222222222,
           "#7201a8"
          ],
          [
           0.3333333333333333,
           "#9c179e"
          ],
          [
           0.4444444444444444,
           "#bd3786"
          ],
          [
           0.5555555555555556,
           "#d8576b"
          ],
          [
           0.6666666666666666,
           "#ed7953"
          ],
          [
           0.7777777777777778,
           "#fb9f3a"
          ],
          [
           0.8888888888888888,
           "#fdca26"
          ],
          [
           1,
           "#f0f921"
          ]
         ]
        },
        "legend": {
         "tracegroupgap": 0
        },
        "template": {
         "data": {
          "bar": [
           {
            "error_x": {
             "color": "#2a3f5f"
            },
            "error_y": {
             "color": "#2a3f5f"
            },
            "marker": {
             "line": {
              "color": "#E5ECF6",
              "width": 0.5
             },
             "pattern": {
              "fillmode": "overlay",
              "size": 10,
              "solidity": 0.2
             }
            },
            "type": "bar"
           }
          ],
          "barpolar": [
           {
            "marker": {
             "line": {
              "color": "#E5ECF6",
              "width": 0.5
             },
             "pattern": {
              "fillmode": "overlay",
              "size": 10,
              "solidity": 0.2
             }
            },
            "type": "barpolar"
           }
          ],
          "carpet": [
           {
            "aaxis": {
             "endlinecolor": "#2a3f5f",
             "gridcolor": "white",
             "linecolor": "white",
             "minorgridcolor": "white",
             "startlinecolor": "#2a3f5f"
            },
            "baxis": {
             "endlinecolor": "#2a3f5f",
             "gridcolor": "white",
             "linecolor": "white",
             "minorgridcolor": "white",
             "startlinecolor": "#2a3f5f"
            },
            "type": "carpet"
           }
          ],
          "choropleth": [
           {
            "colorbar": {
             "outlinewidth": 0,
             "ticks": ""
            },
            "type": "choropleth"
           }
          ],
          "contour": [
           {
            "colorbar": {
             "outlinewidth": 0,
             "ticks": ""
            },
            "colorscale": [
             [
              0,
              "#0d0887"
             ],
             [
              0.1111111111111111,
              "#46039f"
             ],
             [
              0.2222222222222222,
              "#7201a8"
             ],
             [
              0.3333333333333333,
              "#9c179e"
             ],
             [
              0.4444444444444444,
              "#bd3786"
             ],
             [
              0.5555555555555556,
              "#d8576b"
             ],
             [
              0.6666666666666666,
              "#ed7953"
             ],
             [
              0.7777777777777778,
              "#fb9f3a"
             ],
             [
              0.8888888888888888,
              "#fdca26"
             ],
             [
              1,
              "#f0f921"
             ]
            ],
            "type": "contour"
           }
          ],
          "contourcarpet": [
           {
            "colorbar": {
             "outlinewidth": 0,
             "ticks": ""
            },
            "type": "contourcarpet"
           }
          ],
          "heatmap": [
           {
            "colorbar": {
             "outlinewidth": 0,
             "ticks": ""
            },
            "colorscale": [
             [
              0,
              "#0d0887"
             ],
             [
              0.1111111111111111,
              "#46039f"
             ],
             [
              0.2222222222222222,
              "#7201a8"
             ],
             [
              0.3333333333333333,
              "#9c179e"
             ],
             [
              0.4444444444444444,
              "#bd3786"
             ],
             [
              0.5555555555555556,
              "#d8576b"
             ],
             [
              0.6666666666666666,
              "#ed7953"
             ],
             [
              0.7777777777777778,
              "#fb9f3a"
             ],
             [
              0.8888888888888888,
              "#fdca26"
             ],
             [
              1,
              "#f0f921"
             ]
            ],
            "type": "heatmap"
           }
          ],
          "heatmapgl": [
           {
            "colorbar": {
             "outlinewidth": 0,
             "ticks": ""
            },
            "colorscale": [
             [
              0,
              "#0d0887"
             ],
             [
              0.1111111111111111,
              "#46039f"
             ],
             [
              0.2222222222222222,
              "#7201a8"
             ],
             [
              0.3333333333333333,
              "#9c179e"
             ],
             [
              0.4444444444444444,
              "#bd3786"
             ],
             [
              0.5555555555555556,
              "#d8576b"
             ],
             [
              0.6666666666666666,
              "#ed7953"
             ],
             [
              0.7777777777777778,
              "#fb9f3a"
             ],
             [
              0.8888888888888888,
              "#fdca26"
             ],
             [
              1,
              "#f0f921"
             ]
            ],
            "type": "heatmapgl"
           }
          ],
          "histogram": [
           {
            "marker": {
             "pattern": {
              "fillmode": "overlay",
              "size": 10,
              "solidity": 0.2
             }
            },
            "type": "histogram"
           }
          ],
          "histogram2d": [
           {
            "colorbar": {
             "outlinewidth": 0,
             "ticks": ""
            },
            "colorscale": [
             [
              0,
              "#0d0887"
             ],
             [
              0.1111111111111111,
              "#46039f"
             ],
             [
              0.2222222222222222,
              "#7201a8"
             ],
             [
              0.3333333333333333,
              "#9c179e"
             ],
             [
              0.4444444444444444,
              "#bd3786"
             ],
             [
              0.5555555555555556,
              "#d8576b"
             ],
             [
              0.6666666666666666,
              "#ed7953"
             ],
             [
              0.7777777777777778,
              "#fb9f3a"
             ],
             [
              0.8888888888888888,
              "#fdca26"
             ],
             [
              1,
              "#f0f921"
             ]
            ],
            "type": "histogram2d"
           }
          ],
          "histogram2dcontour": [
           {
            "colorbar": {
             "outlinewidth": 0,
             "ticks": ""
            },
            "colorscale": [
             [
              0,
              "#0d0887"
             ],
             [
              0.1111111111111111,
              "#46039f"
             ],
             [
              0.2222222222222222,
              "#7201a8"
             ],
             [
              0.3333333333333333,
              "#9c179e"
             ],
             [
              0.4444444444444444,
              "#bd3786"
             ],
             [
              0.5555555555555556,
              "#d8576b"
             ],
             [
              0.6666666666666666,
              "#ed7953"
             ],
             [
              0.7777777777777778,
              "#fb9f3a"
             ],
             [
              0.8888888888888888,
              "#fdca26"
             ],
             [
              1,
              "#f0f921"
             ]
            ],
            "type": "histogram2dcontour"
           }
          ],
          "mesh3d": [
           {
            "colorbar": {
             "outlinewidth": 0,
             "ticks": ""
            },
            "type": "mesh3d"
           }
          ],
          "parcoords": [
           {
            "line": {
             "colorbar": {
              "outlinewidth": 0,
              "ticks": ""
             }
            },
            "type": "parcoords"
           }
          ],
          "pie": [
           {
            "automargin": true,
            "type": "pie"
           }
          ],
          "scatter": [
           {
            "fillpattern": {
             "fillmode": "overlay",
             "size": 10,
             "solidity": 0.2
            },
            "type": "scatter"
           }
          ],
          "scatter3d": [
           {
            "line": {
             "colorbar": {
              "outlinewidth": 0,
              "ticks": ""
             }
            },
            "marker": {
             "colorbar": {
              "outlinewidth": 0,
              "ticks": ""
             }
            },
            "type": "scatter3d"
           }
          ],
          "scattercarpet": [
           {
            "marker": {
             "colorbar": {
              "outlinewidth": 0,
              "ticks": ""
             }
            },
            "type": "scattercarpet"
           }
          ],
          "scattergeo": [
           {
            "marker": {
             "colorbar": {
              "outlinewidth": 0,
              "ticks": ""
             }
            },
            "type": "scattergeo"
           }
          ],
          "scattergl": [
           {
            "marker": {
             "colorbar": {
              "outlinewidth": 0,
              "ticks": ""
             }
            },
            "type": "scattergl"
           }
          ],
          "scattermapbox": [
           {
            "marker": {
             "colorbar": {
              "outlinewidth": 0,
              "ticks": ""
             }
            },
            "type": "scattermapbox"
           }
          ],
          "scatterpolar": [
           {
            "marker": {
             "colorbar": {
              "outlinewidth": 0,
              "ticks": ""
             }
            },
            "type": "scatterpolar"
           }
          ],
          "scatterpolargl": [
           {
            "marker": {
             "colorbar": {
              "outlinewidth": 0,
              "ticks": ""
             }
            },
            "type": "scatterpolargl"
           }
          ],
          "scatterternary": [
           {
            "marker": {
             "colorbar": {
              "outlinewidth": 0,
              "ticks": ""
             }
            },
            "type": "scatterternary"
           }
          ],
          "surface": [
           {
            "colorbar": {
             "outlinewidth": 0,
             "ticks": ""
            },
            "colorscale": [
             [
              0,
              "#0d0887"
             ],
             [
              0.1111111111111111,
              "#46039f"
             ],
             [
              0.2222222222222222,
              "#7201a8"
             ],
             [
              0.3333333333333333,
              "#9c179e"
             ],
             [
              0.4444444444444444,
              "#bd3786"
             ],
             [
              0.5555555555555556,
              "#d8576b"
             ],
             [
              0.6666666666666666,
              "#ed7953"
             ],
             [
              0.7777777777777778,
              "#fb9f3a"
             ],
             [
              0.8888888888888888,
              "#fdca26"
             ],
             [
              1,
              "#f0f921"
             ]
            ],
            "type": "surface"
           }
          ],
          "table": [
           {
            "cells": {
             "fill": {
              "color": "#EBF0F8"
             },
             "line": {
              "color": "white"
             }
            },
            "header": {
             "fill": {
              "color": "#C8D4E3"
             },
             "line": {
              "color": "white"
             }
            },
            "type": "table"
           }
          ]
         },
         "layout": {
          "annotationdefaults": {
           "arrowcolor": "#2a3f5f",
           "arrowhead": 0,
           "arrowwidth": 1
          },
          "autotypenumbers": "strict",
          "coloraxis": {
           "colorbar": {
            "outlinewidth": 0,
            "ticks": ""
           }
          },
          "colorscale": {
           "diverging": [
            [
             0,
             "#8e0152"
            ],
            [
             0.1,
             "#c51b7d"
            ],
            [
             0.2,
             "#de77ae"
            ],
            [
             0.3,
             "#f1b6da"
            ],
            [
             0.4,
             "#fde0ef"
            ],
            [
             0.5,
             "#f7f7f7"
            ],
            [
             0.6,
             "#e6f5d0"
            ],
            [
             0.7,
             "#b8e186"
            ],
            [
             0.8,
             "#7fbc41"
            ],
            [
             0.9,
             "#4d9221"
            ],
            [
             1,
             "#276419"
            ]
           ],
           "sequential": [
            [
             0,
             "#0d0887"
            ],
            [
             0.1111111111111111,
             "#46039f"
            ],
            [
             0.2222222222222222,
             "#7201a8"
            ],
            [
             0.3333333333333333,
             "#9c179e"
            ],
            [
             0.4444444444444444,
             "#bd3786"
            ],
            [
             0.5555555555555556,
             "#d8576b"
            ],
            [
             0.6666666666666666,
             "#ed7953"
            ],
            [
             0.7777777777777778,
             "#fb9f3a"
            ],
            [
             0.8888888888888888,
             "#fdca26"
            ],
            [
             1,
             "#f0f921"
            ]
           ],
           "sequentialminus": [
            [
             0,
             "#0d0887"
            ],
            [
             0.1111111111111111,
             "#46039f"
            ],
            [
             0.2222222222222222,
             "#7201a8"
            ],
            [
             0.3333333333333333,
             "#9c179e"
            ],
            [
             0.4444444444444444,
             "#bd3786"
            ],
            [
             0.5555555555555556,
             "#d8576b"
            ],
            [
             0.6666666666666666,
             "#ed7953"
            ],
            [
             0.7777777777777778,
             "#fb9f3a"
            ],
            [
             0.8888888888888888,
             "#fdca26"
            ],
            [
             1,
             "#f0f921"
            ]
           ]
          },
          "colorway": [
           "#636efa",
           "#EF553B",
           "#00cc96",
           "#ab63fa",
           "#FFA15A",
           "#19d3f3",
           "#FF6692",
           "#B6E880",
           "#FF97FF",
           "#FECB52"
          ],
          "font": {
           "color": "#2a3f5f"
          },
          "geo": {
           "bgcolor": "white",
           "lakecolor": "white",
           "landcolor": "#E5ECF6",
           "showlakes": true,
           "showland": true,
           "subunitcolor": "white"
          },
          "hoverlabel": {
           "align": "left"
          },
          "hovermode": "closest",
          "mapbox": {
           "style": "light"
          },
          "paper_bgcolor": "white",
          "plot_bgcolor": "#E5ECF6",
          "polar": {
           "angularaxis": {
            "gridcolor": "white",
            "linecolor": "white",
            "ticks": ""
           },
           "bgcolor": "#E5ECF6",
           "radialaxis": {
            "gridcolor": "white",
            "linecolor": "white",
            "ticks": ""
           }
          },
          "scene": {
           "xaxis": {
            "backgroundcolor": "#E5ECF6",
            "gridcolor": "white",
            "gridwidth": 2,
            "linecolor": "white",
            "showbackground": true,
            "ticks": "",
            "zerolinecolor": "white"
           },
           "yaxis": {
            "backgroundcolor": "#E5ECF6",
            "gridcolor": "white",
            "gridwidth": 2,
            "linecolor": "white",
            "showbackground": true,
            "ticks": "",
            "zerolinecolor": "white"
           },
           "zaxis": {
            "backgroundcolor": "#E5ECF6",
            "gridcolor": "white",
            "gridwidth": 2,
            "linecolor": "white",
            "showbackground": true,
            "ticks": "",
            "zerolinecolor": "white"
           }
          },
          "shapedefaults": {
           "line": {
            "color": "#2a3f5f"
           }
          },
          "ternary": {
           "aaxis": {
            "gridcolor": "white",
            "linecolor": "white",
            "ticks": ""
           },
           "baxis": {
            "gridcolor": "white",
            "linecolor": "white",
            "ticks": ""
           },
           "bgcolor": "#E5ECF6",
           "caxis": {
            "gridcolor": "white",
            "linecolor": "white",
            "ticks": ""
           }
          },
          "title": {
           "x": 0.05
          },
          "xaxis": {
           "automargin": true,
           "gridcolor": "white",
           "linecolor": "white",
           "ticks": "",
           "title": {
            "standoff": 15
           },
           "zerolinecolor": "white",
           "zerolinewidth": 2
          },
          "yaxis": {
           "automargin": true,
           "gridcolor": "white",
           "linecolor": "white",
           "ticks": "",
           "title": {
            "standoff": 15
           },
           "zerolinecolor": "white",
           "zerolinewidth": 2
          }
         }
        },
        "title": {
         "text": "Total Goals Scored by Each Team in Different Seasons"
        },
        "xaxis": {
         "anchor": "y",
         "domain": [
          0,
          1
         ],
         "title": {
          "text": "Total Goals"
         }
        },
        "yaxis": {
         "anchor": "x",
         "domain": [
          0,
          1
         ],
         "title": {
          "text": "Team"
         }
        }
       }
      }
     },
     "metadata": {},
     "output_type": "display_data"
    }
   ],
   "source": [
    "team_goals_season = df.groupby(['Team', 'Season'])['Goals'].sum().reset_index()\n",
    "\n",
    "# Horizontal bar plot for total goals scored by each team in different seasons\n",
    "fig = px.bar(team_goals_season, x='Goals', y='Team', color='Season',\n",
    "             orientation='h', title='Total Goals Scored by Each Team in Different Seasons',\n",
    "             labels={'Goals': 'Total Goals', 'Team': 'Team', 'Season': 'Season'})\n",
    "fig.show()\n"
   ]
  },
  {
   "cell_type": "markdown",
   "metadata": {},
   "source": [
    "# Analyzing the goals scored by top team across season and finding out the peak performance year of top team"
   ]
  },
  {
   "cell_type": "code",
   "execution_count": 5,
   "metadata": {},
   "outputs": [
    {
     "data": {
      "application/vnd.plotly.v1+json": {
       "config": {
        "plotlyServerURL": "https://plot.ly"
       },
       "data": [
        {
         "hovertemplate": "variable=Goals<br>Season=%{x}<br>value=%{y}<extra></extra>",
         "legendgroup": "Goals",
         "line": {
          "color": "#636efa",
          "dash": "solid"
         },
         "marker": {
          "symbol": "circle"
         },
         "mode": "lines",
         "name": "Goals",
         "orientation": "v",
         "showlegend": true,
         "type": "scatter",
         "x": [
          2019,
          2020,
          2021,
          2022
         ],
         "xaxis": "x",
         "y": [
          38752,
          44660,
          43804,
          39974
         ],
         "yaxis": "y"
        }
       ],
       "layout": {
        "legend": {
         "title": {
          "text": "variable"
         },
         "tracegroupgap": 0
        },
        "template": {
         "data": {
          "bar": [
           {
            "error_x": {
             "color": "#2a3f5f"
            },
            "error_y": {
             "color": "#2a3f5f"
            },
            "marker": {
             "line": {
              "color": "#E5ECF6",
              "width": 0.5
             },
             "pattern": {
              "fillmode": "overlay",
              "size": 10,
              "solidity": 0.2
             }
            },
            "type": "bar"
           }
          ],
          "barpolar": [
           {
            "marker": {
             "line": {
              "color": "#E5ECF6",
              "width": 0.5
             },
             "pattern": {
              "fillmode": "overlay",
              "size": 10,
              "solidity": 0.2
             }
            },
            "type": "barpolar"
           }
          ],
          "carpet": [
           {
            "aaxis": {
             "endlinecolor": "#2a3f5f",
             "gridcolor": "white",
             "linecolor": "white",
             "minorgridcolor": "white",
             "startlinecolor": "#2a3f5f"
            },
            "baxis": {
             "endlinecolor": "#2a3f5f",
             "gridcolor": "white",
             "linecolor": "white",
             "minorgridcolor": "white",
             "startlinecolor": "#2a3f5f"
            },
            "type": "carpet"
           }
          ],
          "choropleth": [
           {
            "colorbar": {
             "outlinewidth": 0,
             "ticks": ""
            },
            "type": "choropleth"
           }
          ],
          "contour": [
           {
            "colorbar": {
             "outlinewidth": 0,
             "ticks": ""
            },
            "colorscale": [
             [
              0,
              "#0d0887"
             ],
             [
              0.1111111111111111,
              "#46039f"
             ],
             [
              0.2222222222222222,
              "#7201a8"
             ],
             [
              0.3333333333333333,
              "#9c179e"
             ],
             [
              0.4444444444444444,
              "#bd3786"
             ],
             [
              0.5555555555555556,
              "#d8576b"
             ],
             [
              0.6666666666666666,
              "#ed7953"
             ],
             [
              0.7777777777777778,
              "#fb9f3a"
             ],
             [
              0.8888888888888888,
              "#fdca26"
             ],
             [
              1,
              "#f0f921"
             ]
            ],
            "type": "contour"
           }
          ],
          "contourcarpet": [
           {
            "colorbar": {
             "outlinewidth": 0,
             "ticks": ""
            },
            "type": "contourcarpet"
           }
          ],
          "heatmap": [
           {
            "colorbar": {
             "outlinewidth": 0,
             "ticks": ""
            },
            "colorscale": [
             [
              0,
              "#0d0887"
             ],
             [
              0.1111111111111111,
              "#46039f"
             ],
             [
              0.2222222222222222,
              "#7201a8"
             ],
             [
              0.3333333333333333,
              "#9c179e"
             ],
             [
              0.4444444444444444,
              "#bd3786"
             ],
             [
              0.5555555555555556,
              "#d8576b"
             ],
             [
              0.6666666666666666,
              "#ed7953"
             ],
             [
              0.7777777777777778,
              "#fb9f3a"
             ],
             [
              0.8888888888888888,
              "#fdca26"
             ],
             [
              1,
              "#f0f921"
             ]
            ],
            "type": "heatmap"
           }
          ],
          "heatmapgl": [
           {
            "colorbar": {
             "outlinewidth": 0,
             "ticks": ""
            },
            "colorscale": [
             [
              0,
              "#0d0887"
             ],
             [
              0.1111111111111111,
              "#46039f"
             ],
             [
              0.2222222222222222,
              "#7201a8"
             ],
             [
              0.3333333333333333,
              "#9c179e"
             ],
             [
              0.4444444444444444,
              "#bd3786"
             ],
             [
              0.5555555555555556,
              "#d8576b"
             ],
             [
              0.6666666666666666,
              "#ed7953"
             ],
             [
              0.7777777777777778,
              "#fb9f3a"
             ],
             [
              0.8888888888888888,
              "#fdca26"
             ],
             [
              1,
              "#f0f921"
             ]
            ],
            "type": "heatmapgl"
           }
          ],
          "histogram": [
           {
            "marker": {
             "pattern": {
              "fillmode": "overlay",
              "size": 10,
              "solidity": 0.2
             }
            },
            "type": "histogram"
           }
          ],
          "histogram2d": [
           {
            "colorbar": {
             "outlinewidth": 0,
             "ticks": ""
            },
            "colorscale": [
             [
              0,
              "#0d0887"
             ],
             [
              0.1111111111111111,
              "#46039f"
             ],
             [
              0.2222222222222222,
              "#7201a8"
             ],
             [
              0.3333333333333333,
              "#9c179e"
             ],
             [
              0.4444444444444444,
              "#bd3786"
             ],
             [
              0.5555555555555556,
              "#d8576b"
             ],
             [
              0.6666666666666666,
              "#ed7953"
             ],
             [
              0.7777777777777778,
              "#fb9f3a"
             ],
             [
              0.8888888888888888,
              "#fdca26"
             ],
             [
              1,
              "#f0f921"
             ]
            ],
            "type": "histogram2d"
           }
          ],
          "histogram2dcontour": [
           {
            "colorbar": {
             "outlinewidth": 0,
             "ticks": ""
            },
            "colorscale": [
             [
              0,
              "#0d0887"
             ],
             [
              0.1111111111111111,
              "#46039f"
             ],
             [
              0.2222222222222222,
              "#7201a8"
             ],
             [
              0.3333333333333333,
              "#9c179e"
             ],
             [
              0.4444444444444444,
              "#bd3786"
             ],
             [
              0.5555555555555556,
              "#d8576b"
             ],
             [
              0.6666666666666666,
              "#ed7953"
             ],
             [
              0.7777777777777778,
              "#fb9f3a"
             ],
             [
              0.8888888888888888,
              "#fdca26"
             ],
             [
              1,
              "#f0f921"
             ]
            ],
            "type": "histogram2dcontour"
           }
          ],
          "mesh3d": [
           {
            "colorbar": {
             "outlinewidth": 0,
             "ticks": ""
            },
            "type": "mesh3d"
           }
          ],
          "parcoords": [
           {
            "line": {
             "colorbar": {
              "outlinewidth": 0,
              "ticks": ""
             }
            },
            "type": "parcoords"
           }
          ],
          "pie": [
           {
            "automargin": true,
            "type": "pie"
           }
          ],
          "scatter": [
           {
            "fillpattern": {
             "fillmode": "overlay",
             "size": 10,
             "solidity": 0.2
            },
            "type": "scatter"
           }
          ],
          "scatter3d": [
           {
            "line": {
             "colorbar": {
              "outlinewidth": 0,
              "ticks": ""
             }
            },
            "marker": {
             "colorbar": {
              "outlinewidth": 0,
              "ticks": ""
             }
            },
            "type": "scatter3d"
           }
          ],
          "scattercarpet": [
           {
            "marker": {
             "colorbar": {
              "outlinewidth": 0,
              "ticks": ""
             }
            },
            "type": "scattercarpet"
           }
          ],
          "scattergeo": [
           {
            "marker": {
             "colorbar": {
              "outlinewidth": 0,
              "ticks": ""
             }
            },
            "type": "scattergeo"
           }
          ],
          "scattergl": [
           {
            "marker": {
             "colorbar": {
              "outlinewidth": 0,
              "ticks": ""
             }
            },
            "type": "scattergl"
           }
          ],
          "scattermapbox": [
           {
            "marker": {
             "colorbar": {
              "outlinewidth": 0,
              "ticks": ""
             }
            },
            "type": "scattermapbox"
           }
          ],
          "scatterpolar": [
           {
            "marker": {
             "colorbar": {
              "outlinewidth": 0,
              "ticks": ""
             }
            },
            "type": "scatterpolar"
           }
          ],
          "scatterpolargl": [
           {
            "marker": {
             "colorbar": {
              "outlinewidth": 0,
              "ticks": ""
             }
            },
            "type": "scatterpolargl"
           }
          ],
          "scatterternary": [
           {
            "marker": {
             "colorbar": {
              "outlinewidth": 0,
              "ticks": ""
             }
            },
            "type": "scatterternary"
           }
          ],
          "surface": [
           {
            "colorbar": {
             "outlinewidth": 0,
             "ticks": ""
            },
            "colorscale": [
             [
              0,
              "#0d0887"
             ],
             [
              0.1111111111111111,
              "#46039f"
             ],
             [
              0.2222222222222222,
              "#7201a8"
             ],
             [
              0.3333333333333333,
              "#9c179e"
             ],
             [
              0.4444444444444444,
              "#bd3786"
             ],
             [
              0.5555555555555556,
              "#d8576b"
             ],
             [
              0.6666666666666666,
              "#ed7953"
             ],
             [
              0.7777777777777778,
              "#fb9f3a"
             ],
             [
              0.8888888888888888,
              "#fdca26"
             ],
             [
              1,
              "#f0f921"
             ]
            ],
            "type": "surface"
           }
          ],
          "table": [
           {
            "cells": {
             "fill": {
              "color": "#EBF0F8"
             },
             "line": {
              "color": "white"
             }
            },
            "header": {
             "fill": {
              "color": "#C8D4E3"
             },
             "line": {
              "color": "white"
             }
            },
            "type": "table"
           }
          ]
         },
         "layout": {
          "annotationdefaults": {
           "arrowcolor": "#2a3f5f",
           "arrowhead": 0,
           "arrowwidth": 1
          },
          "autotypenumbers": "strict",
          "coloraxis": {
           "colorbar": {
            "outlinewidth": 0,
            "ticks": ""
           }
          },
          "colorscale": {
           "diverging": [
            [
             0,
             "#8e0152"
            ],
            [
             0.1,
             "#c51b7d"
            ],
            [
             0.2,
             "#de77ae"
            ],
            [
             0.3,
             "#f1b6da"
            ],
            [
             0.4,
             "#fde0ef"
            ],
            [
             0.5,
             "#f7f7f7"
            ],
            [
             0.6,
             "#e6f5d0"
            ],
            [
             0.7,
             "#b8e186"
            ],
            [
             0.8,
             "#7fbc41"
            ],
            [
             0.9,
             "#4d9221"
            ],
            [
             1,
             "#276419"
            ]
           ],
           "sequential": [
            [
             0,
             "#0d0887"
            ],
            [
             0.1111111111111111,
             "#46039f"
            ],
            [
             0.2222222222222222,
             "#7201a8"
            ],
            [
             0.3333333333333333,
             "#9c179e"
            ],
            [
             0.4444444444444444,
             "#bd3786"
            ],
            [
             0.5555555555555556,
             "#d8576b"
            ],
            [
             0.6666666666666666,
             "#ed7953"
            ],
            [
             0.7777777777777778,
             "#fb9f3a"
            ],
            [
             0.8888888888888888,
             "#fdca26"
            ],
            [
             1,
             "#f0f921"
            ]
           ],
           "sequentialminus": [
            [
             0,
             "#0d0887"
            ],
            [
             0.1111111111111111,
             "#46039f"
            ],
            [
             0.2222222222222222,
             "#7201a8"
            ],
            [
             0.3333333333333333,
             "#9c179e"
            ],
            [
             0.4444444444444444,
             "#bd3786"
            ],
            [
             0.5555555555555556,
             "#d8576b"
            ],
            [
             0.6666666666666666,
             "#ed7953"
            ],
            [
             0.7777777777777778,
             "#fb9f3a"
            ],
            [
             0.8888888888888888,
             "#fdca26"
            ],
            [
             1,
             "#f0f921"
            ]
           ]
          },
          "colorway": [
           "#636efa",
           "#EF553B",
           "#00cc96",
           "#ab63fa",
           "#FFA15A",
           "#19d3f3",
           "#FF6692",
           "#B6E880",
           "#FF97FF",
           "#FECB52"
          ],
          "font": {
           "color": "#2a3f5f"
          },
          "geo": {
           "bgcolor": "white",
           "lakecolor": "white",
           "landcolor": "#E5ECF6",
           "showlakes": true,
           "showland": true,
           "subunitcolor": "white"
          },
          "hoverlabel": {
           "align": "left"
          },
          "hovermode": "closest",
          "mapbox": {
           "style": "light"
          },
          "paper_bgcolor": "white",
          "plot_bgcolor": "#E5ECF6",
          "polar": {
           "angularaxis": {
            "gridcolor": "white",
            "linecolor": "white",
            "ticks": ""
           },
           "bgcolor": "#E5ECF6",
           "radialaxis": {
            "gridcolor": "white",
            "linecolor": "white",
            "ticks": ""
           }
          },
          "scene": {
           "xaxis": {
            "backgroundcolor": "#E5ECF6",
            "gridcolor": "white",
            "gridwidth": 2,
            "linecolor": "white",
            "showbackground": true,
            "ticks": "",
            "zerolinecolor": "white"
           },
           "yaxis": {
            "backgroundcolor": "#E5ECF6",
            "gridcolor": "white",
            "gridwidth": 2,
            "linecolor": "white",
            "showbackground": true,
            "ticks": "",
            "zerolinecolor": "white"
           },
           "zaxis": {
            "backgroundcolor": "#E5ECF6",
            "gridcolor": "white",
            "gridwidth": 2,
            "linecolor": "white",
            "showbackground": true,
            "ticks": "",
            "zerolinecolor": "white"
           }
          },
          "shapedefaults": {
           "line": {
            "color": "#2a3f5f"
           }
          },
          "ternary": {
           "aaxis": {
            "gridcolor": "white",
            "linecolor": "white",
            "ticks": ""
           },
           "baxis": {
            "gridcolor": "white",
            "linecolor": "white",
            "ticks": ""
           },
           "bgcolor": "#E5ECF6",
           "caxis": {
            "gridcolor": "white",
            "linecolor": "white",
            "ticks": ""
           }
          },
          "title": {
           "x": 0.05
          },
          "xaxis": {
           "automargin": true,
           "gridcolor": "white",
           "linecolor": "white",
           "ticks": "",
           "title": {
            "standoff": 15
           },
           "zerolinecolor": "white",
           "zerolinewidth": 2
          },
          "yaxis": {
           "automargin": true,
           "gridcolor": "white",
           "linecolor": "white",
           "ticks": "",
           "title": {
            "standoff": 15
           },
           "zerolinecolor": "white",
           "zerolinewidth": 2
          }
         }
        },
        "title": {
         "text": "Goals Scored by top team -Team B Across Seasons  "
        },
        "xaxis": {
         "anchor": "y",
         "domain": [
          0,
          1
         ],
         "title": {
          "text": "Season"
         }
        },
        "yaxis": {
         "anchor": "x",
         "domain": [
          0,
          1
         ],
         "title": {
          "text": "Goals"
         }
        }
       }
      }
     },
     "metadata": {},
     "output_type": "display_data"
    }
   ],
   "source": [
    "top_team_season_goals = df[df['Team'] == top_team].groupby('Season')['Goals'].sum().sort_index()\n",
    "fig2 = px.line(top_team_season_goals, title=f'Goals Scored by top team -{top_team} Across Seasons  ')\n",
    "fig2.update_layout(xaxis_title='Season', yaxis_title='Goals')\n",
    "fig2.show()"
   ]
  },
  {
   "cell_type": "markdown",
   "metadata": {},
   "source": [
    "# Analyzing the top goal scorer in the top team and his performance throughout the seasons\n"
   ]
  },
  {
   "cell_type": "code",
   "execution_count": 6,
   "metadata": {},
   "outputs": [
    {
     "name": "stdout",
     "output_type": "stream",
     "text": [
      "Top goal scorer in Team B is :  Player A\n",
      "       Serial ID  Unnamed: 0    Player    Team  Age      Height      Weight  \\\n",
      "35            36          35  Player A  Team B   35  184.950888   77.591932   \n",
      "37            38          37  Player A  Team B   25  178.777394   84.643812   \n",
      "72            73          72  Player A  Team B   39  197.850580   58.849836   \n",
      "74            75          74  Player A  Team B   30  170.822452  109.554627   \n",
      "87            88          87  Player A  Team B   18  184.833305  118.952369   \n",
      "...          ...         ...       ...     ...  ...         ...         ...   \n",
      "16589      16590         468  Player A  Team B   26  170.791842   78.527601   \n",
      "16597      16598         132  Player A  Team B   20  169.850829   89.138838   \n",
      "16609      16610        1232  Player A  Team B   27  171.488503  116.021414   \n",
      "16612      16613        3313  Player A  Team B   34  191.662956  119.098185   \n",
      "16616      16617        4501  Player A  Team B   30  188.851650   87.187757   \n",
      "\n",
      "         Position  Goals  Assists  ...  TacklesWon  CleanSheets  \\\n",
      "35       Defender   50.0     14.0  ...          13            7   \n",
      "37     Midfielder   29.0      0.0  ...           4            5   \n",
      "72     Goalkeeper   16.0     12.0  ...          17            6   \n",
      "74     Goalkeeper    0.0     15.0  ...           9            9   \n",
      "87       Defender    2.0      4.0  ...          10            2   \n",
      "...           ...    ...      ...  ...         ...          ...   \n",
      "16589    Defender   23.0      6.0  ...          26            5   \n",
      "16597     Forward   26.0      3.0  ...          28            9   \n",
      "16609    Defender   28.0      0.0  ...          25            8   \n",
      "16612    Defender    0.0      9.0  ...           6            6   \n",
      "16616  Midfielder    0.0      4.0  ...          19            2   \n",
      "\n",
      "       PlayerFatigue  MatchPressure  InjuryHistory  TrainingHours  \\\n",
      "35          0.808397             60              7      11.544039   \n",
      "37          0.097672             34              3       7.572818   \n",
      "72          0.005522             92              1      11.615084   \n",
      "74          0.706857              4              3      18.492541   \n",
      "87          0.637557             83              8      13.350359   \n",
      "...              ...            ...            ...            ...   \n",
      "16589       0.491876             54              5       7.916937   \n",
      "16597       0.568269             30              9       6.849563   \n",
      "16609       0.213105             69              5      13.305426   \n",
      "16612       0.608999             51              9      15.754261   \n",
      "16616       0.513708             66              7      10.092831   \n",
      "\n",
      "       FatigueInjuryCorrelation  PressurePerformanceImpact  EffectiveTraining  \\\n",
      "35                     0.209582                   4.166667          95.083856   \n",
      "37                     0.000000                   2.866667         278.695738   \n",
      "72                     5.978029                   5.294118         552.780155   \n",
      "74                     2.949749                   3.266667         485.072300   \n",
      "87                     2.319407                   7.302807          97.498126   \n",
      "...                         ...                        ...                ...   \n",
      "16589                  2.238546                   3.666667         488.121755   \n",
      "16597                  1.104192                   1.851852         254.775678   \n",
      "16609                  1.687032                   1.965517         495.767243   \n",
      "16612                  0.419362                   8.064698         291.624505   \n",
      "16616                  1.880277                   0.551724         170.068218   \n",
      "\n",
      "       Season  \n",
      "35       2019  \n",
      "37       2020  \n",
      "72       2021  \n",
      "74       2019  \n",
      "87       2020  \n",
      "...       ...  \n",
      "16589    2020  \n",
      "16597    2020  \n",
      "16609    2022  \n",
      "16612    2020  \n",
      "16616    2022  \n",
      "\n",
      "[1420 rows x 26 columns]\n"
     ]
    },
    {
     "data": {
      "application/vnd.plotly.v1+json": {
       "config": {
        "plotlyServerURL": "https://plot.ly"
       },
       "data": [
        {
         "alignmentgroup": "True",
         "hovertemplate": "variable=Goals<br>Season=%{x}<br>value=%{y}<extra></extra>",
         "legendgroup": "Goals",
         "marker": {
          "color": "#636efa",
          "pattern": {
           "shape": ""
          }
         },
         "name": "Goals",
         "offsetgroup": "Goals",
         "orientation": "v",
         "showlegend": true,
         "textposition": "auto",
         "type": "bar",
         "x": [
          2019,
          2020,
          2021,
          2022
         ],
         "xaxis": "x",
         "y": [
          11184,
          13860,
          12248,
          9719
         ],
         "yaxis": "y"
        }
       ],
       "layout": {
        "barmode": "relative",
        "legend": {
         "title": {
          "text": "variable"
         },
         "tracegroupgap": 0
        },
        "template": {
         "data": {
          "bar": [
           {
            "error_x": {
             "color": "#2a3f5f"
            },
            "error_y": {
             "color": "#2a3f5f"
            },
            "marker": {
             "line": {
              "color": "#E5ECF6",
              "width": 0.5
             },
             "pattern": {
              "fillmode": "overlay",
              "size": 10,
              "solidity": 0.2
             }
            },
            "type": "bar"
           }
          ],
          "barpolar": [
           {
            "marker": {
             "line": {
              "color": "#E5ECF6",
              "width": 0.5
             },
             "pattern": {
              "fillmode": "overlay",
              "size": 10,
              "solidity": 0.2
             }
            },
            "type": "barpolar"
           }
          ],
          "carpet": [
           {
            "aaxis": {
             "endlinecolor": "#2a3f5f",
             "gridcolor": "white",
             "linecolor": "white",
             "minorgridcolor": "white",
             "startlinecolor": "#2a3f5f"
            },
            "baxis": {
             "endlinecolor": "#2a3f5f",
             "gridcolor": "white",
             "linecolor": "white",
             "minorgridcolor": "white",
             "startlinecolor": "#2a3f5f"
            },
            "type": "carpet"
           }
          ],
          "choropleth": [
           {
            "colorbar": {
             "outlinewidth": 0,
             "ticks": ""
            },
            "type": "choropleth"
           }
          ],
          "contour": [
           {
            "colorbar": {
             "outlinewidth": 0,
             "ticks": ""
            },
            "colorscale": [
             [
              0,
              "#0d0887"
             ],
             [
              0.1111111111111111,
              "#46039f"
             ],
             [
              0.2222222222222222,
              "#7201a8"
             ],
             [
              0.3333333333333333,
              "#9c179e"
             ],
             [
              0.4444444444444444,
              "#bd3786"
             ],
             [
              0.5555555555555556,
              "#d8576b"
             ],
             [
              0.6666666666666666,
              "#ed7953"
             ],
             [
              0.7777777777777778,
              "#fb9f3a"
             ],
             [
              0.8888888888888888,
              "#fdca26"
             ],
             [
              1,
              "#f0f921"
             ]
            ],
            "type": "contour"
           }
          ],
          "contourcarpet": [
           {
            "colorbar": {
             "outlinewidth": 0,
             "ticks": ""
            },
            "type": "contourcarpet"
           }
          ],
          "heatmap": [
           {
            "colorbar": {
             "outlinewidth": 0,
             "ticks": ""
            },
            "colorscale": [
             [
              0,
              "#0d0887"
             ],
             [
              0.1111111111111111,
              "#46039f"
             ],
             [
              0.2222222222222222,
              "#7201a8"
             ],
             [
              0.3333333333333333,
              "#9c179e"
             ],
             [
              0.4444444444444444,
              "#bd3786"
             ],
             [
              0.5555555555555556,
              "#d8576b"
             ],
             [
              0.6666666666666666,
              "#ed7953"
             ],
             [
              0.7777777777777778,
              "#fb9f3a"
             ],
             [
              0.8888888888888888,
              "#fdca26"
             ],
             [
              1,
              "#f0f921"
             ]
            ],
            "type": "heatmap"
           }
          ],
          "heatmapgl": [
           {
            "colorbar": {
             "outlinewidth": 0,
             "ticks": ""
            },
            "colorscale": [
             [
              0,
              "#0d0887"
             ],
             [
              0.1111111111111111,
              "#46039f"
             ],
             [
              0.2222222222222222,
              "#7201a8"
             ],
             [
              0.3333333333333333,
              "#9c179e"
             ],
             [
              0.4444444444444444,
              "#bd3786"
             ],
             [
              0.5555555555555556,
              "#d8576b"
             ],
             [
              0.6666666666666666,
              "#ed7953"
             ],
             [
              0.7777777777777778,
              "#fb9f3a"
             ],
             [
              0.8888888888888888,
              "#fdca26"
             ],
             [
              1,
              "#f0f921"
             ]
            ],
            "type": "heatmapgl"
           }
          ],
          "histogram": [
           {
            "marker": {
             "pattern": {
              "fillmode": "overlay",
              "size": 10,
              "solidity": 0.2
             }
            },
            "type": "histogram"
           }
          ],
          "histogram2d": [
           {
            "colorbar": {
             "outlinewidth": 0,
             "ticks": ""
            },
            "colorscale": [
             [
              0,
              "#0d0887"
             ],
             [
              0.1111111111111111,
              "#46039f"
             ],
             [
              0.2222222222222222,
              "#7201a8"
             ],
             [
              0.3333333333333333,
              "#9c179e"
             ],
             [
              0.4444444444444444,
              "#bd3786"
             ],
             [
              0.5555555555555556,
              "#d8576b"
             ],
             [
              0.6666666666666666,
              "#ed7953"
             ],
             [
              0.7777777777777778,
              "#fb9f3a"
             ],
             [
              0.8888888888888888,
              "#fdca26"
             ],
             [
              1,
              "#f0f921"
             ]
            ],
            "type": "histogram2d"
           }
          ],
          "histogram2dcontour": [
           {
            "colorbar": {
             "outlinewidth": 0,
             "ticks": ""
            },
            "colorscale": [
             [
              0,
              "#0d0887"
             ],
             [
              0.1111111111111111,
              "#46039f"
             ],
             [
              0.2222222222222222,
              "#7201a8"
             ],
             [
              0.3333333333333333,
              "#9c179e"
             ],
             [
              0.4444444444444444,
              "#bd3786"
             ],
             [
              0.5555555555555556,
              "#d8576b"
             ],
             [
              0.6666666666666666,
              "#ed7953"
             ],
             [
              0.7777777777777778,
              "#fb9f3a"
             ],
             [
              0.8888888888888888,
              "#fdca26"
             ],
             [
              1,
              "#f0f921"
             ]
            ],
            "type": "histogram2dcontour"
           }
          ],
          "mesh3d": [
           {
            "colorbar": {
             "outlinewidth": 0,
             "ticks": ""
            },
            "type": "mesh3d"
           }
          ],
          "parcoords": [
           {
            "line": {
             "colorbar": {
              "outlinewidth": 0,
              "ticks": ""
             }
            },
            "type": "parcoords"
           }
          ],
          "pie": [
           {
            "automargin": true,
            "type": "pie"
           }
          ],
          "scatter": [
           {
            "fillpattern": {
             "fillmode": "overlay",
             "size": 10,
             "solidity": 0.2
            },
            "type": "scatter"
           }
          ],
          "scatter3d": [
           {
            "line": {
             "colorbar": {
              "outlinewidth": 0,
              "ticks": ""
             }
            },
            "marker": {
             "colorbar": {
              "outlinewidth": 0,
              "ticks": ""
             }
            },
            "type": "scatter3d"
           }
          ],
          "scattercarpet": [
           {
            "marker": {
             "colorbar": {
              "outlinewidth": 0,
              "ticks": ""
             }
            },
            "type": "scattercarpet"
           }
          ],
          "scattergeo": [
           {
            "marker": {
             "colorbar": {
              "outlinewidth": 0,
              "ticks": ""
             }
            },
            "type": "scattergeo"
           }
          ],
          "scattergl": [
           {
            "marker": {
             "colorbar": {
              "outlinewidth": 0,
              "ticks": ""
             }
            },
            "type": "scattergl"
           }
          ],
          "scattermapbox": [
           {
            "marker": {
             "colorbar": {
              "outlinewidth": 0,
              "ticks": ""
             }
            },
            "type": "scattermapbox"
           }
          ],
          "scatterpolar": [
           {
            "marker": {
             "colorbar": {
              "outlinewidth": 0,
              "ticks": ""
             }
            },
            "type": "scatterpolar"
           }
          ],
          "scatterpolargl": [
           {
            "marker": {
             "colorbar": {
              "outlinewidth": 0,
              "ticks": ""
             }
            },
            "type": "scatterpolargl"
           }
          ],
          "scatterternary": [
           {
            "marker": {
             "colorbar": {
              "outlinewidth": 0,
              "ticks": ""
             }
            },
            "type": "scatterternary"
           }
          ],
          "surface": [
           {
            "colorbar": {
             "outlinewidth": 0,
             "ticks": ""
            },
            "colorscale": [
             [
              0,
              "#0d0887"
             ],
             [
              0.1111111111111111,
              "#46039f"
             ],
             [
              0.2222222222222222,
              "#7201a8"
             ],
             [
              0.3333333333333333,
              "#9c179e"
             ],
             [
              0.4444444444444444,
              "#bd3786"
             ],
             [
              0.5555555555555556,
              "#d8576b"
             ],
             [
              0.6666666666666666,
              "#ed7953"
             ],
             [
              0.7777777777777778,
              "#fb9f3a"
             ],
             [
              0.8888888888888888,
              "#fdca26"
             ],
             [
              1,
              "#f0f921"
             ]
            ],
            "type": "surface"
           }
          ],
          "table": [
           {
            "cells": {
             "fill": {
              "color": "#EBF0F8"
             },
             "line": {
              "color": "white"
             }
            },
            "header": {
             "fill": {
              "color": "#C8D4E3"
             },
             "line": {
              "color": "white"
             }
            },
            "type": "table"
           }
          ]
         },
         "layout": {
          "annotationdefaults": {
           "arrowcolor": "#2a3f5f",
           "arrowhead": 0,
           "arrowwidth": 1
          },
          "autotypenumbers": "strict",
          "coloraxis": {
           "colorbar": {
            "outlinewidth": 0,
            "ticks": ""
           }
          },
          "colorscale": {
           "diverging": [
            [
             0,
             "#8e0152"
            ],
            [
             0.1,
             "#c51b7d"
            ],
            [
             0.2,
             "#de77ae"
            ],
            [
             0.3,
             "#f1b6da"
            ],
            [
             0.4,
             "#fde0ef"
            ],
            [
             0.5,
             "#f7f7f7"
            ],
            [
             0.6,
             "#e6f5d0"
            ],
            [
             0.7,
             "#b8e186"
            ],
            [
             0.8,
             "#7fbc41"
            ],
            [
             0.9,
             "#4d9221"
            ],
            [
             1,
             "#276419"
            ]
           ],
           "sequential": [
            [
             0,
             "#0d0887"
            ],
            [
             0.1111111111111111,
             "#46039f"
            ],
            [
             0.2222222222222222,
             "#7201a8"
            ],
            [
             0.3333333333333333,
             "#9c179e"
            ],
            [
             0.4444444444444444,
             "#bd3786"
            ],
            [
             0.5555555555555556,
             "#d8576b"
            ],
            [
             0.6666666666666666,
             "#ed7953"
            ],
            [
             0.7777777777777778,
             "#fb9f3a"
            ],
            [
             0.8888888888888888,
             "#fdca26"
            ],
            [
             1,
             "#f0f921"
            ]
           ],
           "sequentialminus": [
            [
             0,
             "#0d0887"
            ],
            [
             0.1111111111111111,
             "#46039f"
            ],
            [
             0.2222222222222222,
             "#7201a8"
            ],
            [
             0.3333333333333333,
             "#9c179e"
            ],
            [
             0.4444444444444444,
             "#bd3786"
            ],
            [
             0.5555555555555556,
             "#d8576b"
            ],
            [
             0.6666666666666666,
             "#ed7953"
            ],
            [
             0.7777777777777778,
             "#fb9f3a"
            ],
            [
             0.8888888888888888,
             "#fdca26"
            ],
            [
             1,
             "#f0f921"
            ]
           ]
          },
          "colorway": [
           "#636efa",
           "#EF553B",
           "#00cc96",
           "#ab63fa",
           "#FFA15A",
           "#19d3f3",
           "#FF6692",
           "#B6E880",
           "#FF97FF",
           "#FECB52"
          ],
          "font": {
           "color": "#2a3f5f"
          },
          "geo": {
           "bgcolor": "white",
           "lakecolor": "white",
           "landcolor": "#E5ECF6",
           "showlakes": true,
           "showland": true,
           "subunitcolor": "white"
          },
          "hoverlabel": {
           "align": "left"
          },
          "hovermode": "closest",
          "mapbox": {
           "style": "light"
          },
          "paper_bgcolor": "white",
          "plot_bgcolor": "#E5ECF6",
          "polar": {
           "angularaxis": {
            "gridcolor": "white",
            "linecolor": "white",
            "ticks": ""
           },
           "bgcolor": "#E5ECF6",
           "radialaxis": {
            "gridcolor": "white",
            "linecolor": "white",
            "ticks": ""
           }
          },
          "scene": {
           "xaxis": {
            "backgroundcolor": "#E5ECF6",
            "gridcolor": "white",
            "gridwidth": 2,
            "linecolor": "white",
            "showbackground": true,
            "ticks": "",
            "zerolinecolor": "white"
           },
           "yaxis": {
            "backgroundcolor": "#E5ECF6",
            "gridcolor": "white",
            "gridwidth": 2,
            "linecolor": "white",
            "showbackground": true,
            "ticks": "",
            "zerolinecolor": "white"
           },
           "zaxis": {
            "backgroundcolor": "#E5ECF6",
            "gridcolor": "white",
            "gridwidth": 2,
            "linecolor": "white",
            "showbackground": true,
            "ticks": "",
            "zerolinecolor": "white"
           }
          },
          "shapedefaults": {
           "line": {
            "color": "#2a3f5f"
           }
          },
          "ternary": {
           "aaxis": {
            "gridcolor": "white",
            "linecolor": "white",
            "ticks": ""
           },
           "baxis": {
            "gridcolor": "white",
            "linecolor": "white",
            "ticks": ""
           },
           "bgcolor": "#E5ECF6",
           "caxis": {
            "gridcolor": "white",
            "linecolor": "white",
            "ticks": ""
           }
          },
          "title": {
           "x": 0.05
          },
          "xaxis": {
           "automargin": true,
           "gridcolor": "white",
           "linecolor": "white",
           "ticks": "",
           "title": {
            "standoff": 15
           },
           "zerolinecolor": "white",
           "zerolinewidth": 2
          },
          "yaxis": {
           "automargin": true,
           "gridcolor": "white",
           "linecolor": "white",
           "ticks": "",
           "title": {
            "standoff": 15
           },
           "zerolinecolor": "white",
           "zerolinewidth": 2
          }
         }
        },
        "title": {
         "text": "Goals Scored by Player A Across Seasons"
        },
        "xaxis": {
         "anchor": "y",
         "domain": [
          0,
          1
         ],
         "title": {
          "text": "Season"
         }
        },
        "yaxis": {
         "anchor": "x",
         "domain": [
          0,
          1
         ],
         "title": {
          "text": "Goals"
         }
        }
       }
      }
     },
     "metadata": {},
     "output_type": "display_data"
    }
   ],
   "source": [
    "top_team_players = df[df['Team'] == top_team]\n",
    "top_goal_scorer = top_team_players.groupby('Player')['Goals'].sum().idxmax()\n",
    "top_goal_scorer_goals = top_team_players[top_team_players['Player'] == top_goal_scorer]\n",
    "\n",
    "print(f\"Top goal scorer in {top_team} is : \", top_goal_scorer)\n",
    "print(top_goal_scorer_goals)\n",
    "\n",
    "top_goal_scorer_season_goals = top_goal_scorer_goals.groupby('Season')['Goals'].sum().sort_index()\n",
    "\n",
    "fig3 = px.bar(top_goal_scorer_season_goals, title=f'Goals Scored by {top_goal_scorer} Across Seasons')\n",
    "fig3.update_layout(xaxis_title='Season', yaxis_title='Goals')\n",
    "fig3.show()"
   ]
  },
  {
   "cell_type": "markdown",
   "metadata": {},
   "source": [
    "# Anlaysing the data to find the rising stars and their goal scoring ability"
   ]
  },
  {
   "cell_type": "code",
   "execution_count": 9,
   "metadata": {},
   "outputs": [
    {
     "data": {
      "application/vnd.plotly.v1+json": {
       "config": {
        "plotlyServerURL": "https://plot.ly"
       },
       "data": [
        {
         "hovertemplate": "Player=Player A<br>Age=%{x}<br>Increase in Goals=%{y}<extra></extra>",
         "legendgroup": "Player A",
         "marker": {
          "color": "#636efa",
          "symbol": "circle"
         },
         "mode": "markers",
         "name": "Player A",
         "showlegend": true,
         "type": "scattergl",
         "x": [
          19,
          23,
          24,
          23,
          20,
          19,
          21,
          19,
          22,
          22,
          20,
          19,
          22,
          21,
          22,
          20,
          20,
          20,
          23,
          22,
          24,
          21,
          23,
          19,
          23,
          24,
          23,
          22,
          24,
          21,
          19,
          24,
          18,
          18,
          23,
          21,
          18,
          22,
          20,
          19,
          18,
          22,
          18,
          24,
          24,
          23,
          18,
          24,
          23,
          21,
          19,
          20,
          24,
          19,
          22,
          18,
          22,
          19,
          19,
          19,
          23,
          18,
          23,
          20,
          19,
          20,
          23,
          18,
          24,
          18,
          18,
          20,
          21,
          20,
          22,
          24,
          20,
          21,
          18,
          18,
          18,
          24,
          18,
          22,
          21,
          18,
          23,
          22,
          24,
          21,
          23,
          20,
          20,
          18,
          18,
          22,
          24,
          19,
          23,
          21,
          19,
          21,
          23,
          24,
          23,
          19,
          19,
          19,
          20,
          24,
          18,
          24,
          21,
          18,
          24,
          19,
          19,
          22,
          23,
          18,
          22,
          18,
          23,
          23,
          22,
          20,
          19,
          23,
          23,
          23,
          22,
          22,
          22,
          20,
          23,
          19,
          22,
          23,
          23,
          19,
          18,
          19,
          24,
          19,
          22,
          22,
          24,
          18,
          22,
          18,
          18,
          21,
          22,
          21,
          23,
          19,
          22,
          22,
          19,
          19,
          22,
          19,
          20,
          18,
          24,
          23,
          19,
          22,
          22,
          18,
          21,
          20,
          18,
          20,
          22,
          21,
          23,
          23,
          22,
          22,
          21,
          24,
          24,
          20,
          24,
          24,
          22,
          23,
          22,
          23,
          19,
          18,
          23,
          18,
          21,
          20,
          24,
          24,
          18,
          22,
          18,
          19,
          18,
          18,
          19,
          22,
          22,
          21,
          20,
          18,
          23,
          19,
          19,
          18,
          22,
          22,
          22,
          21,
          24,
          18,
          23,
          22,
          19,
          22,
          23,
          19,
          19,
          22,
          24,
          21,
          22,
          21,
          20,
          24,
          22,
          19,
          24,
          20,
          22,
          18,
          20,
          19,
          23,
          18,
          19,
          19,
          19,
          22,
          22,
          20,
          23,
          20,
          19,
          18,
          23,
          24,
          19,
          22,
          18,
          20,
          24,
          20,
          20,
          18,
          24,
          20,
          20,
          18,
          22,
          24,
          23,
          18,
          19,
          18,
          23,
          20,
          24,
          21,
          24,
          22,
          19,
          21,
          22,
          18,
          24,
          20,
          19,
          20,
          24,
          22,
          21,
          19,
          21,
          22,
          22,
          19,
          22,
          22,
          19,
          24,
          22,
          19,
          20,
          18,
          19,
          19,
          19,
          18,
          24,
          20,
          21,
          20,
          19,
          21,
          19,
          22,
          19,
          19,
          21,
          19,
          20,
          19,
          21,
          24,
          22,
          18,
          19,
          24,
          20,
          23,
          19,
          21,
          24,
          23,
          21,
          18,
          24,
          21,
          20,
          19,
          22,
          19,
          19,
          18,
          21,
          22,
          22,
          22,
          24,
          20,
          20,
          23,
          18,
          18,
          19,
          21,
          20,
          23,
          18,
          18,
          23,
          21,
          23,
          22,
          18,
          22,
          18,
          20,
          20,
          18,
          22,
          20,
          24,
          21,
          18,
          21,
          22,
          18,
          19,
          19,
          18,
          23,
          23,
          20,
          21,
          23,
          20,
          20,
          24,
          19,
          19,
          22,
          22,
          20,
          21,
          23,
          21,
          21,
          24,
          18,
          23,
          22,
          22,
          18,
          23,
          19,
          22,
          24,
          24,
          23,
          21,
          18,
          22,
          23,
          19,
          20,
          22,
          23,
          18,
          23,
          20,
          18,
          19,
          20,
          22,
          20,
          23,
          19,
          19,
          19,
          22,
          22,
          22,
          23,
          20,
          20,
          19,
          22,
          22,
          20,
          24,
          20,
          22,
          18,
          21,
          22,
          24,
          19,
          19,
          23,
          22,
          18,
          19,
          19,
          21,
          18,
          22,
          23,
          19,
          24,
          22,
          20,
          18,
          20,
          19,
          24,
          20,
          23,
          21,
          22,
          23,
          20,
          20,
          21,
          19,
          20,
          22,
          24,
          18,
          21,
          21,
          21,
          22,
          19,
          18,
          19,
          19,
          19,
          24,
          21,
          23,
          18,
          21,
          22,
          18,
          23,
          23,
          21,
          23,
          20,
          24,
          18,
          20,
          18,
          20,
          19,
          22,
          20,
          22,
          19,
          23,
          23,
          18,
          23,
          24,
          24,
          19,
          21,
          24,
          20,
          22,
          20,
          19,
          18,
          24,
          19,
          20,
          24,
          22,
          18,
          20,
          24,
          24,
          20,
          23,
          20,
          21,
          18,
          20,
          24,
          22,
          23,
          24,
          21,
          22,
          22,
          24,
          18,
          24,
          18,
          19,
          19,
          24,
          19,
          22,
          20,
          22,
          22,
          22,
          19,
          24,
          24,
          20,
          21,
          22,
          20,
          21,
          19,
          19,
          20,
          21,
          22,
          21,
          23,
          23,
          22,
          20,
          18,
          23,
          18,
          18,
          20,
          21,
          18,
          18,
          18,
          19,
          23,
          19,
          19,
          21,
          23,
          23,
          19,
          19,
          19,
          18,
          24,
          19,
          18,
          22,
          18,
          24,
          21,
          18,
          22,
          19,
          20,
          22,
          22,
          24,
          24,
          19,
          19,
          21,
          20,
          23,
          24,
          19,
          18,
          20,
          19,
          20
         ],
         "xaxis": "x",
         "y": [
          13,
          1,
          20,
          8,
          18,
          7,
          5,
          20,
          12,
          21,
          8,
          17,
          5,
          6,
          2,
          1,
          19,
          16,
          130,
          178,
          12,
          8,
          12,
          5,
          15,
          9,
          88,
          153,
          78,
          2,
          6,
          230,
          13,
          2,
          29,
          8,
          15,
          12,
          122,
          9,
          7,
          9,
          41,
          7,
          12,
          16,
          20,
          12,
          13,
          16,
          17,
          29,
          4,
          160,
          19,
          60,
          26,
          44,
          6,
          3,
          21,
          8,
          20,
          6,
          12,
          1,
          4,
          20,
          230,
          2283,
          5,
          26,
          2,
          23,
          17,
          4,
          122,
          27,
          165,
          30,
          15,
          22,
          17,
          223,
          9,
          4,
          19,
          25,
          2,
          28,
          24,
          243,
          5,
          4,
          27,
          2,
          15,
          6,
          26,
          19,
          88,
          20,
          11,
          16,
          170,
          203,
          11,
          1,
          21,
          119,
          64,
          3,
          28,
          3,
          2,
          10,
          2,
          4,
          11,
          80,
          2,
          14,
          172,
          9,
          8,
          107,
          113,
          11,
          110,
          12,
          28,
          100,
          7,
          20,
          5,
          7,
          21,
          73,
          240,
          19,
          1,
          13,
          27,
          3,
          164,
          80,
          120,
          8,
          1,
          16,
          18,
          18,
          26,
          3,
          8,
          11,
          7,
          60,
          20,
          18,
          10,
          8,
          6,
          144,
          26,
          26,
          23,
          18,
          7,
          11,
          5,
          25,
          27,
          9,
          5,
          28,
          20,
          21,
          123,
          210,
          193,
          9,
          10,
          260,
          26,
          8,
          10,
          272,
          22,
          104,
          8,
          17,
          11,
          14,
          5,
          16,
          63,
          1,
          153,
          26,
          3,
          4,
          12,
          8,
          4,
          6,
          16,
          11,
          20,
          7,
          12,
          142,
          1,
          23,
          192,
          1,
          12,
          2,
          214,
          7,
          1,
          19,
          7,
          2,
          8,
          5,
          11,
          22,
          10,
          20,
          28,
          26,
          37,
          14,
          235,
          28,
          53,
          1,
          2,
          22,
          139,
          1,
          5,
          270,
          4,
          233,
          129,
          1,
          7,
          11,
          12,
          15,
          27,
          7,
          10,
          24,
          10,
          28,
          12,
          6,
          6,
          15,
          260,
          15,
          4,
          238,
          30,
          2,
          9,
          17,
          12,
          150,
          5,
          214,
          20,
          1391,
          24,
          200,
          262,
          20,
          168,
          7,
          25,
          20,
          12,
          3,
          9,
          5,
          4,
          17,
          7,
          70,
          20,
          70,
          4,
          263,
          1,
          22,
          3,
          4,
          18,
          3,
          5,
          1,
          9,
          12,
          109,
          29,
          24,
          196,
          26,
          24,
          28,
          14,
          1,
          1,
          11,
          2,
          13,
          62,
          2,
          28,
          21,
          6,
          3,
          8,
          7,
          10,
          2,
          88,
          17,
          10,
          14,
          6,
          17,
          18,
          4,
          2,
          15,
          210,
          15,
          8,
          6,
          2,
          26,
          9,
          21,
          21,
          3,
          2,
          14,
          11,
          18,
          63,
          4,
          178,
          50,
          18,
          70,
          16,
          29,
          3,
          116,
          240,
          17,
          14,
          1,
          16,
          6,
          22,
          150,
          11,
          2,
          22,
          24,
          37,
          12,
          7,
          5,
          101,
          5,
          9,
          113,
          24,
          27,
          170,
          9,
          26,
          5,
          4,
          1,
          17,
          5,
          5,
          6,
          1,
          23,
          18,
          6,
          150,
          9,
          223,
          21,
          71,
          22,
          23,
          24,
          69,
          14,
          6,
          8,
          7,
          7,
          9,
          4,
          7,
          13,
          11,
          6,
          7,
          3,
          9,
          109,
          49,
          14,
          3,
          9,
          1,
          4,
          10,
          13,
          5,
          1,
          17,
          2,
          3,
          53,
          1,
          229,
          12,
          2,
          1400,
          22,
          8,
          5,
          16,
          4,
          107,
          3,
          16,
          180,
          24,
          24,
          7,
          2,
          170,
          21,
          13,
          17,
          210,
          3,
          17,
          100,
          4,
          5,
          14,
          4,
          3,
          8,
          11,
          15,
          260,
          18,
          22,
          25,
          5,
          6,
          13,
          76,
          186,
          143,
          12,
          4,
          10,
          16,
          3,
          1,
          18,
          224,
          3,
          25,
          20,
          2,
          20,
          19,
          90,
          9,
          16,
          8,
          93,
          27,
          14,
          1,
          1,
          16,
          30,
          9,
          17,
          7,
          16,
          4,
          5,
          16,
          13,
          20,
          12,
          12,
          5,
          9,
          29,
          11,
          30,
          10,
          5,
          14,
          13,
          2,
          4,
          9,
          4,
          2,
          8,
          136,
          4,
          9,
          30,
          23,
          15,
          200,
          8,
          22,
          24,
          182,
          17,
          13,
          2,
          13,
          1,
          5,
          80,
          2,
          20,
          15,
          17,
          27,
          184,
          13,
          3,
          73,
          3,
          136,
          24,
          26,
          9,
          6,
          21,
          20,
          90,
          18,
          5,
          14,
          162,
          194,
          80,
          148,
          1,
          36,
          253,
          262,
          55,
          17,
          11,
          7,
          22,
          5,
          9,
          13,
          117,
          15,
          88,
          14,
          5,
          75,
          23,
          13,
          2,
          34,
          12,
          3,
          1,
          6,
          3,
          22,
          1,
          9,
          22,
          3,
          15,
          9,
          1,
          8,
          56,
          30,
          156,
          21,
          14,
          12,
          8,
          18,
          79,
          7,
          3,
          19
         ],
         "yaxis": "y"
        },
        {
         "hovertemplate": "Player=Player C<br>Age=%{x}<br>Increase in Goals=%{y}<extra></extra>",
         "legendgroup": "Player C",
         "marker": {
          "color": "#EF553B",
          "symbol": "circle"
         },
         "mode": "markers",
         "name": "Player C",
         "showlegend": true,
         "type": "scattergl",
         "x": [
          20,
          18,
          18,
          23,
          21,
          23,
          18,
          23,
          20,
          22,
          19,
          24,
          18,
          22,
          24,
          21,
          23,
          18,
          20,
          21,
          23,
          20,
          22,
          24,
          22,
          20,
          23,
          19,
          22,
          24,
          20,
          24,
          22,
          18,
          22,
          23,
          22,
          18,
          21,
          23,
          23,
          24,
          21,
          18,
          21,
          21,
          21,
          21,
          24,
          20,
          22,
          21,
          19,
          22,
          19,
          21,
          20,
          21,
          18,
          18,
          23,
          21,
          24,
          20,
          18,
          18,
          21,
          24,
          18,
          24,
          23,
          20,
          24,
          22,
          21,
          18,
          19,
          21,
          19,
          23,
          24,
          21,
          20,
          21,
          19,
          23,
          18,
          18,
          18,
          20,
          20,
          22,
          18,
          19,
          23,
          19,
          23,
          22,
          18,
          20,
          22,
          18,
          21,
          20,
          20,
          22,
          23,
          21,
          24,
          20,
          19,
          22,
          24,
          19,
          20,
          24,
          23,
          18,
          24,
          18,
          22,
          24,
          22,
          23,
          20,
          19,
          24,
          19,
          24,
          18,
          19,
          24,
          19,
          24,
          23,
          19,
          22,
          23,
          22,
          24,
          23,
          21,
          20,
          18,
          18,
          20,
          22,
          23,
          18,
          18,
          20,
          18,
          23,
          22,
          24,
          19,
          22,
          18,
          21,
          22,
          18,
          22,
          20,
          22,
          19,
          22,
          23,
          18,
          18,
          24,
          20,
          21,
          22,
          22,
          22,
          20,
          24,
          24,
          19,
          20,
          23,
          20,
          22,
          18,
          24,
          23,
          22,
          18,
          18,
          22,
          19,
          24,
          19,
          18,
          21,
          20,
          20,
          20,
          22,
          21,
          20,
          23,
          24,
          18,
          24,
          22,
          20,
          18,
          22,
          19,
          23,
          24,
          23,
          24,
          24,
          19,
          20,
          23,
          19,
          20,
          20,
          19,
          18,
          23,
          22,
          18,
          18,
          20,
          21,
          20,
          24,
          20,
          20,
          18,
          19,
          24,
          22,
          22,
          24,
          24,
          20,
          21,
          24,
          19,
          22,
          21,
          18,
          24,
          23,
          22,
          24,
          20,
          24,
          20,
          22,
          22,
          21,
          19,
          20,
          21,
          22,
          23,
          22,
          22,
          18,
          24,
          22,
          23,
          19,
          20,
          22,
          24,
          21,
          24,
          21,
          19,
          18,
          22,
          22,
          18,
          18,
          18,
          21,
          22,
          18,
          19,
          23,
          18,
          18,
          24,
          23,
          20,
          23,
          20,
          19,
          23,
          24,
          20,
          22,
          22,
          19,
          23,
          24,
          21,
          18,
          20,
          21,
          24,
          23,
          18,
          21,
          20,
          19,
          18,
          22,
          22,
          22,
          21,
          19,
          20,
          21,
          23,
          20,
          21,
          20,
          20,
          20,
          18,
          23,
          21,
          22,
          19,
          20,
          19,
          18,
          24,
          22,
          23,
          21,
          22,
          20,
          24,
          23,
          19,
          20,
          24,
          18,
          21,
          20,
          23,
          18,
          22,
          23,
          20,
          24,
          22,
          22,
          20,
          20,
          20,
          23,
          20,
          24,
          23,
          22,
          19,
          21,
          19,
          21,
          18,
          19,
          22,
          22,
          19,
          22,
          21,
          18,
          20,
          19,
          22,
          24,
          20,
          20,
          20,
          20,
          21,
          19,
          21,
          21,
          19,
          21,
          24,
          20,
          22,
          19,
          18,
          22,
          18,
          23,
          22,
          24,
          23,
          19,
          18,
          21,
          18,
          18,
          22,
          20,
          23,
          24,
          18,
          24,
          21,
          18,
          24,
          23,
          18,
          20,
          19,
          23,
          18,
          19,
          22,
          21,
          20,
          18,
          23,
          18,
          24,
          22,
          22,
          21,
          20,
          23,
          18,
          21,
          20,
          22,
          24,
          20,
          20,
          19,
          23,
          21,
          18,
          24,
          23,
          22,
          23,
          21,
          22,
          19,
          19,
          20,
          21,
          23,
          24,
          24,
          19,
          22,
          20,
          18,
          18,
          18,
          18,
          23,
          21,
          20,
          24,
          23,
          21,
          24,
          18,
          20,
          23,
          21,
          18,
          18,
          24,
          21,
          21,
          19,
          20,
          19,
          20,
          21,
          22,
          22,
          21,
          22,
          19,
          21,
          20,
          24,
          21,
          23,
          23,
          21,
          18,
          18,
          24,
          18,
          23,
          24,
          24,
          22,
          22,
          24,
          21,
          19,
          18,
          19,
          22,
          22,
          23,
          21,
          18,
          24,
          20,
          20,
          21,
          22,
          24,
          22,
          24,
          19,
          23,
          24,
          18,
          22,
          19,
          20,
          21,
          21,
          19,
          21,
          24,
          22,
          18,
          21,
          22,
          20,
          20,
          18,
          20,
          23,
          24,
          22,
          24,
          20,
          21,
          21,
          23,
          18,
          23,
          22,
          21,
          21,
          18,
          18,
          23,
          20,
          24,
          22,
          23,
          22,
          21,
          19,
          18,
          20
         ],
         "xaxis": "x",
         "y": [
          27,
          19,
          16,
          27,
          12,
          7,
          15,
          13,
          8,
          19,
          88,
          1,
          19,
          1,
          2694,
          28,
          2,
          11,
          7,
          19,
          29,
          150,
          24,
          12,
          218,
          175,
          10,
          20,
          100,
          2,
          18,
          21,
          204,
          15,
          28,
          10,
          11,
          7,
          25,
          5,
          7,
          120,
          20,
          224,
          10,
          19,
          180,
          10,
          25,
          20,
          18,
          3,
          40,
          10,
          25,
          20,
          5,
          3,
          22,
          14,
          10,
          1,
          3,
          250,
          180,
          240,
          190,
          50,
          14,
          6,
          11,
          8,
          172,
          1,
          33,
          133,
          11,
          150,
          12,
          81,
          16,
          5,
          11,
          14,
          13,
          15,
          1,
          270,
          90,
          23,
          23,
          12,
          13,
          18,
          25,
          2,
          170,
          26,
          13,
          15,
          8,
          1,
          5,
          2,
          10,
          5,
          14,
          16,
          12,
          7,
          9,
          20,
          225,
          17,
          236,
          30,
          5,
          16,
          3,
          16,
          120,
          68,
          17,
          46,
          10,
          7,
          1,
          25,
          80,
          27,
          7,
          21,
          18,
          4,
          141,
          24,
          10,
          5,
          16,
          10,
          110,
          190,
          25,
          27,
          29,
          7,
          9,
          17,
          118,
          22,
          20,
          3,
          28,
          24,
          1,
          7,
          252,
          18,
          72,
          17,
          5,
          260,
          6,
          15,
          3,
          6,
          109,
          12,
          240,
          16,
          1,
          22,
          40,
          11,
          4,
          5,
          1,
          9,
          5,
          173,
          20,
          1,
          14,
          3,
          2,
          9,
          64,
          14,
          9,
          18,
          21,
          178,
          16,
          18,
          1,
          20,
          20,
          25,
          3,
          17,
          3,
          7,
          7,
          10,
          2,
          15,
          7,
          15,
          105,
          18,
          160,
          3,
          4,
          5,
          4,
          19,
          169,
          1,
          2,
          6,
          1,
          2,
          25,
          11,
          9,
          11,
          18,
          3,
          26,
          12,
          3,
          33,
          4,
          256,
          3,
          28,
          170,
          109,
          7,
          4,
          91,
          8,
          4,
          4,
          5,
          16,
          27,
          2,
          110,
          6,
          7,
          9,
          3,
          7,
          5,
          2,
          479,
          20,
          25,
          28,
          5,
          5,
          12,
          11,
          17,
          8,
          2,
          10,
          2,
          243,
          1,
          260,
          22,
          10,
          170,
          24,
          27,
          23,
          10,
          9,
          1,
          5,
          6,
          16,
          1,
          35,
          11,
          19,
          23,
          9,
          20,
          202,
          15,
          20,
          96,
          19,
          247,
          8,
          50,
          2,
          163,
          9,
          11,
          169,
          8,
          21,
          91,
          21,
          3,
          75,
          10,
          4,
          18,
          6,
          2,
          5,
          19,
          3,
          12,
          11,
          190,
          5,
          180,
          7,
          1,
          10,
          4,
          19,
          22,
          23,
          205,
          3,
          6,
          100,
          7,
          3,
          137,
          10,
          96,
          14,
          15,
          22,
          14,
          1,
          5,
          16,
          6,
          8,
          3,
          104,
          130,
          189,
          101,
          25,
          80,
          2,
          3,
          206,
          7,
          5,
          15,
          5,
          7,
          4,
          12,
          11,
          16,
          19,
          100,
          16,
          19,
          10,
          20,
          5,
          17,
          3,
          8,
          14,
          100,
          160,
          12,
          10,
          9,
          16,
          25,
          8,
          26,
          3,
          23,
          4,
          20,
          3,
          21,
          10,
          15,
          21,
          6,
          9,
          3,
          8,
          2,
          97,
          38,
          2,
          100,
          18,
          5,
          13,
          239,
          8,
          21,
          90,
          12,
          87,
          17,
          10,
          3,
          134,
          180,
          24,
          27,
          15,
          22,
          10,
          71,
          202,
          10,
          22,
          29,
          111,
          5,
          5,
          7,
          18,
          12,
          11,
          14,
          250,
          12,
          13,
          6,
          2,
          3,
          9,
          4,
          5,
          1,
          12,
          202,
          9,
          3,
          121,
          17,
          100,
          161,
          11,
          93,
          7,
          16,
          4,
          2,
          5,
          1,
          4,
          2,
          121,
          82,
          3,
          22,
          3,
          22,
          11,
          3,
          19,
          25,
          4,
          17,
          16,
          29,
          80,
          21,
          14,
          10,
          18,
          12,
          23,
          3,
          2,
          16,
          3,
          5,
          17,
          477,
          15,
          2,
          8,
          45,
          10,
          2,
          18,
          252,
          12,
          78,
          2,
          6,
          9,
          110,
          24,
          8,
          10,
          11,
          16,
          19,
          18,
          14,
          8,
          8,
          5,
          19,
          18,
          23,
          159,
          3,
          19,
          6,
          25,
          15,
          82,
          27,
          8,
          20,
          2,
          26,
          171,
          29,
          14,
          11,
          13,
          239,
          18,
          3,
          4,
          221,
          10,
          19,
          13,
          12,
          270,
          118,
          21,
          17,
          10,
          13,
          15,
          14,
          14,
          272,
          10,
          6,
          27,
          6,
          11,
          18,
          1,
          9,
          4,
          19,
          5,
          5,
          13,
          180
         ],
         "yaxis": "y"
        },
        {
         "hovertemplate": "Player=Player B<br>Age=%{x}<br>Increase in Goals=%{y}<extra></extra>",
         "legendgroup": "Player B",
         "marker": {
          "color": "#00cc96",
          "symbol": "circle"
         },
         "mode": "markers",
         "name": "Player B",
         "showlegend": true,
         "type": "scattergl",
         "x": [
          19,
          18,
          23,
          23,
          23,
          22,
          20,
          19,
          21,
          19,
          22,
          24,
          20,
          18,
          24,
          23,
          19,
          24,
          24,
          21,
          24,
          24,
          19,
          18,
          19,
          20,
          18,
          18,
          22,
          21,
          24,
          18,
          21,
          24,
          24,
          23,
          21,
          19,
          21,
          21,
          18,
          20,
          23,
          23,
          19,
          19,
          24,
          19,
          24,
          23,
          21,
          18,
          19,
          20,
          23,
          21,
          19,
          19,
          23,
          20,
          21,
          21,
          19,
          20,
          22,
          24,
          20,
          23,
          18,
          19,
          19,
          21,
          23,
          19,
          21,
          24,
          23,
          18,
          23,
          22,
          23,
          23,
          21,
          19,
          20,
          23,
          20,
          24,
          18,
          21,
          18,
          20,
          21,
          19,
          21,
          24,
          21,
          22,
          24,
          21,
          20,
          23,
          18,
          19,
          20,
          20,
          23,
          22,
          24,
          20,
          18,
          23,
          21,
          24,
          22,
          19,
          23,
          20,
          19,
          24,
          22,
          24,
          18,
          21,
          21,
          21,
          22,
          24,
          24,
          23,
          21,
          19,
          23,
          23,
          18,
          20,
          21,
          19,
          20,
          18,
          19,
          22,
          20,
          20,
          24,
          20,
          23,
          24,
          23,
          19,
          21,
          22,
          19,
          24,
          18,
          19,
          24,
          18,
          21,
          23,
          18,
          22,
          23,
          21,
          23,
          22,
          22,
          22,
          18,
          24,
          22,
          22,
          19,
          23,
          24,
          23,
          20,
          20,
          21,
          21,
          22,
          19,
          23,
          21,
          19,
          24,
          19,
          24,
          21,
          18,
          18,
          19,
          23,
          18,
          22,
          21,
          18,
          22,
          21,
          22,
          19,
          21,
          19,
          24,
          18,
          18,
          24,
          20,
          19,
          20,
          24,
          21,
          23,
          20,
          19,
          19,
          21,
          21,
          23,
          23,
          21,
          22,
          18,
          24,
          21,
          19,
          19,
          23,
          18,
          22,
          21,
          21,
          19,
          20,
          19,
          19,
          20,
          22,
          24,
          24,
          24,
          21,
          22,
          24,
          20,
          24,
          19,
          20,
          20,
          19,
          24,
          21,
          24,
          18,
          23,
          23,
          21,
          23,
          23,
          23,
          20,
          21,
          19,
          20,
          18,
          22,
          22,
          20,
          23,
          20,
          21,
          20,
          19,
          19,
          19,
          21,
          24,
          22,
          24,
          18,
          23,
          22,
          19,
          20,
          23,
          23,
          19,
          20,
          23,
          24,
          19,
          21,
          23,
          19,
          21,
          23,
          23,
          19,
          20,
          21,
          19,
          20,
          19,
          18,
          24,
          18,
          24,
          19,
          24,
          23,
          23,
          21,
          20,
          23,
          18,
          24,
          24,
          23,
          23,
          22,
          19,
          18,
          21,
          22,
          22,
          19,
          24,
          18,
          22,
          24,
          20,
          21,
          18,
          24,
          24,
          22,
          23,
          23,
          23,
          21,
          22,
          24,
          19,
          23,
          23,
          18,
          24,
          24,
          20,
          21,
          18,
          22,
          20,
          20,
          18,
          20,
          20,
          22,
          21,
          21,
          19,
          23,
          20,
          18,
          19,
          19,
          21,
          22,
          23,
          19,
          20,
          23,
          21,
          22,
          22,
          23,
          24,
          21,
          22,
          19,
          23,
          24,
          19,
          24,
          22,
          21,
          21,
          19,
          19,
          23,
          20,
          22,
          18,
          21,
          23,
          24,
          21,
          19,
          21,
          21,
          18,
          21,
          24,
          20,
          24,
          20,
          23,
          24,
          22,
          21,
          20,
          22,
          19,
          23,
          20,
          20,
          22,
          19,
          24,
          21,
          22,
          22,
          24,
          18,
          22,
          18,
          18,
          23,
          18,
          20,
          21,
          20,
          19,
          23,
          21,
          18,
          24,
          23,
          20,
          23,
          21,
          20,
          23,
          21,
          23,
          18,
          19,
          20,
          18,
          24,
          19,
          20,
          19,
          18,
          24,
          23,
          23,
          21,
          23,
          19,
          22,
          20,
          18,
          20,
          19,
          19,
          24,
          24,
          19,
          20,
          20,
          20,
          22,
          21,
          24,
          22,
          22,
          19,
          24,
          21,
          19,
          24,
          22,
          23,
          23,
          21,
          20,
          24,
          19,
          19,
          22,
          20,
          22,
          21,
          23,
          19,
          19,
          20,
          24,
          21,
          23,
          20,
          20,
          23,
          20,
          18,
          20,
          23,
          21,
          21,
          21,
          24,
          18,
          24,
          20,
          19,
          19,
          24,
          23,
          19,
          19,
          18,
          22,
          23,
          18,
          23,
          21,
          24,
          23,
          20,
          19,
          22,
          24,
          23,
          24,
          18,
          19,
          22,
          24,
          24,
          21,
          18,
          19,
          20,
          23,
          20,
          24,
          20,
          19,
          20,
          19,
          20,
          18,
          23,
          21,
          23,
          21,
          24,
          23,
          23,
          22,
          23,
          22,
          23,
          22,
          22,
          21,
          24,
          19,
          19,
          19,
          22,
          18,
          20
         ],
         "xaxis": "x",
         "y": [
          178,
          217,
          11,
          61,
          22,
          27,
          9,
          1592,
          24,
          18,
          15,
          13,
          7,
          18,
          28,
          20,
          4,
          17,
          4,
          133,
          25,
          27,
          19,
          7,
          13,
          25,
          4,
          27,
          1,
          9,
          128,
          19,
          21,
          170,
          119,
          29,
          250,
          2896,
          247,
          119,
          8,
          13,
          67,
          20,
          21,
          140,
          12,
          17,
          26,
          7,
          1,
          22,
          3,
          6,
          4,
          3,
          9,
          8,
          180,
          18,
          12,
          185,
          15,
          22,
          4,
          20,
          10,
          15,
          7,
          17,
          45,
          5,
          27,
          9,
          3,
          5,
          11,
          192,
          1,
          15,
          278,
          270,
          178,
          22,
          21,
          18,
          4,
          40,
          15,
          7,
          28,
          1,
          30,
          13,
          17,
          24,
          10,
          3,
          11,
          18,
          183,
          51,
          1,
          18,
          23,
          20,
          18,
          83,
          178,
          25,
          210,
          16,
          11,
          15,
          1,
          2,
          9,
          6,
          11,
          9,
          7,
          19,
          12,
          110,
          9,
          19,
          10,
          479,
          6,
          3,
          5,
          7,
          10,
          19,
          15,
          27,
          160,
          17,
          9,
          19,
          26,
          22,
          7,
          33,
          15,
          10,
          85,
          237,
          2,
          5,
          10,
          282,
          1,
          9,
          11,
          18,
          12,
          2,
          24,
          1,
          7,
          23,
          15,
          29,
          11,
          25,
          8,
          17,
          4,
          24,
          4,
          8,
          143,
          3,
          10,
          11,
          7,
          28,
          160,
          177,
          8,
          192,
          1,
          1,
          17,
          11,
          286,
          4,
          10,
          15,
          80,
          97,
          15,
          15,
          10,
          3,
          8,
          1,
          141,
          18,
          25,
          85,
          10,
          17,
          5,
          12,
          17,
          16,
          20,
          25,
          141,
          17,
          42,
          25,
          18,
          7,
          16,
          13,
          25,
          70,
          22,
          27,
          4,
          8,
          10,
          29,
          11,
          5,
          12,
          85,
          14,
          21,
          1,
          15,
          162,
          6,
          11,
          25,
          24,
          190,
          265,
          13,
          8,
          29,
          21,
          26,
          271,
          7,
          10,
          37,
          9,
          1,
          18,
          159,
          10,
          21,
          15,
          63,
          7,
          9,
          6,
          13,
          54,
          2,
          28,
          26,
          23,
          16,
          17,
          19,
          17,
          20,
          210,
          14,
          15,
          11,
          4,
          12,
          70,
          20,
          14,
          11,
          1,
          16,
          20,
          150,
          1,
          13,
          5,
          6,
          6,
          12,
          14,
          24,
          13,
          20,
          1,
          180,
          50,
          2,
          5,
          2,
          23,
          16,
          5,
          3,
          22,
          18,
          26,
          11,
          20,
          29,
          1,
          23,
          12,
          21,
          17,
          29,
          250,
          28,
          17,
          27,
          126,
          6,
          249,
          8,
          253,
          17,
          13,
          11,
          4,
          17,
          12,
          100,
          7,
          3,
          237,
          196,
          29,
          26,
          14,
          6,
          15,
          19,
          6,
          12,
          13,
          500,
          6,
          19,
          14,
          8,
          16,
          20,
          7,
          11,
          9,
          16,
          19,
          15,
          5,
          14,
          16,
          3,
          15,
          16,
          30,
          10,
          8,
          17,
          23,
          65,
          230,
          6,
          14,
          4,
          11,
          25,
          85,
          135,
          130,
          170,
          7,
          19,
          6,
          29,
          14,
          1576,
          23,
          17,
          28,
          6,
          14,
          11,
          15,
          30,
          16,
          267,
          3,
          168,
          21,
          86,
          15,
          130,
          24,
          13,
          2,
          8,
          2,
          7,
          15,
          3,
          14,
          21,
          8,
          26,
          23,
          25,
          26,
          12,
          15,
          1,
          20,
          9,
          25,
          18,
          2,
          20,
          18,
          28,
          12,
          18,
          7,
          226,
          110,
          7,
          190,
          13,
          20,
          247,
          1,
          21,
          1,
          87,
          14,
          16,
          230,
          14,
          2,
          26,
          20,
          9,
          11,
          20,
          15,
          220,
          8,
          15,
          4,
          18,
          8,
          24,
          2,
          23,
          8,
          8,
          11,
          180,
          14,
          4,
          7,
          7,
          22,
          153,
          3,
          20,
          4,
          18,
          17,
          24,
          21,
          12,
          8,
          15,
          25,
          160,
          15,
          17,
          2897,
          12,
          86,
          2,
          13,
          2,
          20,
          4,
          60,
          7,
          42,
          170,
          13,
          15,
          2,
          238,
          7,
          19,
          106,
          15,
          2,
          150,
          2,
          161,
          14,
          9,
          4,
          1,
          1591,
          1,
          20,
          18,
          21,
          15,
          4,
          10,
          21,
          20,
          18,
          20,
          70,
          7,
          10,
          18,
          17,
          5,
          163,
          16,
          15,
          15,
          12,
          4,
          2,
          6,
          4,
          6,
          6,
          7,
          10,
          16,
          2,
          23,
          11,
          9,
          2,
          74,
          162,
          11,
          12,
          27,
          18,
          192,
          23,
          23,
          18,
          11,
          12,
          18,
          6,
          6,
          164,
          5,
          31,
          8,
          7,
          14
         ],
         "yaxis": "y"
        },
        {
         "hovertemplate": "Player=Player D<br>Age=%{x}<br>Increase in Goals=%{y}<extra></extra>",
         "legendgroup": "Player D",
         "marker": {
          "color": "#ab63fa",
          "symbol": "circle"
         },
         "mode": "markers",
         "name": "Player D",
         "showlegend": true,
         "type": "scattergl",
         "x": [
          24,
          22,
          18,
          18,
          19,
          19,
          24,
          18,
          18,
          18,
          21,
          24,
          22,
          24,
          20,
          20,
          19,
          19,
          23,
          23,
          21,
          22,
          22,
          20,
          18,
          24,
          24,
          24,
          23,
          24,
          20,
          19,
          23,
          23,
          18,
          24,
          18,
          19,
          21,
          23,
          20,
          19,
          23,
          19,
          20,
          20,
          23,
          18,
          24,
          20,
          18,
          21,
          23,
          20,
          21,
          24,
          18,
          22,
          20,
          22,
          18,
          20,
          19,
          19,
          20,
          21,
          22,
          19,
          23,
          23,
          21,
          20,
          23,
          19,
          19,
          18,
          24,
          23,
          23,
          18,
          24,
          19,
          21,
          19,
          18,
          24,
          24,
          23,
          20,
          19,
          19,
          20,
          24,
          21,
          19,
          23,
          23,
          22,
          20,
          24,
          22,
          24,
          24,
          20,
          24,
          21,
          21,
          19,
          23,
          23,
          18,
          22,
          21,
          20,
          24,
          22,
          21,
          21,
          21,
          18,
          21,
          23,
          20,
          20,
          22,
          19,
          21,
          22,
          18,
          19,
          20,
          24,
          23,
          21,
          24,
          18,
          21,
          24,
          22,
          19,
          18,
          21,
          20,
          22,
          21,
          18,
          21,
          20,
          23,
          21,
          22,
          21,
          21,
          18,
          24,
          21,
          18,
          24,
          23,
          19,
          18,
          23,
          18,
          18,
          21,
          23,
          22,
          19,
          24,
          24,
          22,
          20,
          23,
          18,
          18,
          18,
          21,
          20,
          21,
          19,
          22,
          18,
          18,
          20,
          23,
          21,
          23,
          19,
          21,
          20,
          19,
          18,
          20,
          21,
          24,
          19,
          23,
          24,
          23,
          23,
          18,
          21,
          22,
          20,
          24,
          20,
          18,
          20,
          20,
          20,
          19,
          20,
          24,
          24,
          24,
          19,
          22,
          20,
          18,
          23,
          18,
          20,
          24,
          19,
          19,
          20,
          24,
          21,
          18,
          20,
          20,
          20,
          21,
          18,
          22,
          18,
          24,
          18,
          24,
          23,
          22,
          21,
          22,
          20,
          21,
          24,
          24,
          24,
          19,
          20,
          20,
          18,
          22,
          20,
          22,
          20,
          23,
          24,
          19,
          23,
          19,
          20,
          18,
          21,
          24,
          20,
          19,
          23,
          23,
          20,
          18,
          20,
          20,
          21,
          20,
          20,
          21,
          18,
          24,
          23,
          22,
          24,
          19,
          21,
          20,
          24,
          23,
          19,
          20,
          20,
          19,
          23,
          21,
          20,
          24,
          20,
          22,
          20,
          18,
          18,
          19,
          20,
          20,
          19,
          18,
          22,
          20,
          24,
          21,
          24,
          20,
          23,
          20,
          24,
          19,
          20,
          22,
          19,
          23,
          22,
          21,
          23,
          23,
          21,
          21,
          22,
          22,
          24,
          20,
          22,
          23,
          24,
          19,
          20,
          24,
          18,
          20,
          21,
          20,
          22,
          23,
          18,
          19,
          19,
          23,
          18,
          19,
          18,
          18,
          21,
          18,
          20,
          20,
          18,
          23,
          18,
          18,
          24,
          18,
          20,
          22,
          21,
          24,
          24,
          24,
          23,
          24,
          18,
          19,
          20,
          22,
          23,
          23,
          24,
          20,
          18,
          19,
          21,
          19,
          20,
          24,
          20,
          18,
          21,
          19,
          21,
          23,
          19,
          21,
          20,
          19,
          21,
          21,
          20,
          18,
          20,
          20,
          18,
          20,
          22,
          21,
          20,
          20,
          21,
          18,
          24,
          22,
          20,
          20,
          22,
          24,
          24,
          19,
          21,
          19,
          24,
          23,
          21,
          23,
          21,
          18,
          22,
          19,
          24,
          18,
          18,
          21,
          23,
          24,
          22,
          22,
          19,
          23,
          24,
          22,
          24,
          22,
          21,
          24,
          24,
          24,
          18,
          22,
          24,
          24,
          23,
          24,
          20,
          24,
          20,
          20,
          24,
          18,
          20,
          20,
          20,
          23,
          18,
          20,
          20,
          23,
          23,
          24,
          18,
          23,
          23,
          24,
          22,
          23,
          21,
          20,
          22,
          18,
          24,
          24,
          24,
          23,
          22,
          19,
          21,
          21,
          23,
          19,
          18,
          23,
          20,
          24,
          23,
          24,
          21,
          18,
          24,
          21,
          18,
          19,
          22,
          22,
          20,
          22,
          19,
          24,
          24,
          18,
          24,
          23,
          24,
          21,
          18,
          21,
          18,
          19,
          24,
          23,
          24,
          18,
          19,
          23,
          18,
          18,
          21,
          21,
          24,
          24,
          20,
          23,
          21,
          24,
          20,
          21,
          24,
          24,
          19,
          24,
          23,
          18,
          18,
          18,
          23,
          24,
          24,
          19,
          20,
          19,
          23,
          19,
          23,
          20,
          21,
          20,
          19,
          22,
          18,
          18,
          22,
          18,
          20,
          20,
          24,
          21,
          19,
          21,
          24,
          19,
          20,
          18,
          22
         ],
         "xaxis": "x",
         "y": [
          13,
          20,
          12,
          24,
          3,
          2,
          277,
          197,
          14,
          5,
          18,
          21,
          8,
          2,
          17,
          231,
          17,
          100,
          11,
          8,
          20,
          97,
          25,
          280,
          9,
          19,
          16,
          7,
          180,
          5,
          23,
          22,
          140,
          9,
          15,
          12,
          10,
          90,
          8,
          17,
          24,
          277,
          11,
          4,
          28,
          10,
          23,
          5,
          167,
          24,
          4,
          30,
          170,
          6,
          16,
          2,
          7,
          19,
          2,
          22,
          7,
          7,
          16,
          122,
          143,
          24,
          106,
          27,
          4,
          2,
          2,
          246,
          26,
          4,
          1,
          8,
          4,
          20,
          1,
          270,
          6,
          8,
          26,
          29,
          133,
          22,
          1,
          23,
          24,
          6,
          283,
          16,
          174,
          14,
          8,
          8,
          17,
          8,
          20,
          3,
          55,
          2,
          4,
          120,
          6,
          20,
          2,
          10,
          9,
          170,
          14,
          11,
          9,
          8,
          16,
          5,
          25,
          4,
          63,
          3,
          16,
          1500,
          20,
          19,
          13,
          7,
          7,
          9,
          230,
          1,
          7,
          21,
          134,
          16,
          6,
          10,
          16,
          27,
          15,
          46,
          2,
          11,
          251,
          19,
          19,
          15,
          7,
          8,
          23,
          22,
          28,
          23,
          6,
          20,
          20,
          8,
          2,
          19,
          6,
          11,
          160,
          24,
          6,
          7,
          1,
          3,
          19,
          2,
          26,
          8,
          14,
          28,
          6,
          19,
          18,
          2,
          12,
          27,
          5,
          11,
          4,
          31,
          230,
          26,
          170,
          29,
          20,
          1,
          9,
          7,
          1190,
          8,
          1,
          7,
          20,
          253,
          5,
          16,
          2,
          4,
          201,
          68,
          26,
          2,
          125,
          17,
          10,
          25,
          11,
          24,
          7,
          16,
          4,
          2,
          180,
          180,
          12,
          7,
          13,
          167,
          3,
          1,
          8,
          256,
          23,
          16,
          260,
          2,
          90,
          22,
          280,
          8,
          10,
          12,
          1,
          4,
          12,
          6,
          5,
          14,
          6,
          16,
          65,
          24,
          11,
          265,
          6,
          267,
          139,
          70,
          200,
          4,
          28,
          23,
          11,
          19,
          17,
          27,
          29,
          16,
          10,
          11,
          141,
          100,
          9,
          24,
          18,
          6,
          14,
          159,
          4,
          151,
          26,
          4,
          19,
          7,
          130,
          16,
          7,
          2,
          9,
          259,
          22,
          6,
          108,
          7,
          11,
          2,
          11,
          28,
          8,
          114,
          1,
          6,
          11,
          8,
          15,
          115,
          9,
          18,
          8,
          4,
          16,
          18,
          9,
          80,
          23,
          18,
          16,
          264,
          9,
          5,
          2,
          20,
          17,
          7,
          26,
          2,
          141,
          16,
          260,
          163,
          3,
          6,
          25,
          128,
          16,
          19,
          24,
          19,
          2,
          25,
          10,
          10,
          237,
          7,
          232,
          5,
          2,
          4,
          5,
          10,
          18,
          17,
          8,
          196,
          10,
          20,
          183,
          87,
          231,
          11,
          15,
          2,
          15,
          3,
          144,
          13,
          16,
          19,
          1,
          119,
          7,
          7,
          23,
          180,
          7,
          4,
          14,
          9,
          24,
          12,
          11,
          1,
          17,
          5,
          2,
          13,
          264,
          26,
          27,
          9,
          23,
          1,
          29,
          7,
          17,
          123,
          18,
          11,
          11,
          11,
          3,
          8,
          17,
          21,
          13,
          23,
          14,
          1,
          9,
          20,
          16,
          232,
          1,
          1,
          14,
          11,
          6,
          4,
          154,
          258,
          22,
          16,
          180,
          280,
          220,
          60,
          197,
          26,
          2,
          4,
          10,
          26,
          123,
          16,
          11,
          3,
          181,
          13,
          2,
          3,
          11,
          1,
          80,
          260,
          15,
          3,
          4,
          252,
          9,
          15,
          23,
          22,
          140,
          155,
          2,
          9,
          27,
          9,
          26,
          6,
          208,
          15,
          270,
          160,
          12,
          20,
          9,
          9,
          2,
          10,
          27,
          7,
          4,
          6,
          6,
          12,
          110,
          20,
          7,
          105,
          8,
          1,
          26,
          5,
          114,
          7,
          118,
          11,
          15,
          11,
          23,
          12,
          2,
          19,
          2,
          162,
          278,
          28,
          16,
          20,
          23,
          11,
          6,
          3,
          1,
          19,
          19,
          1191,
          10,
          16,
          10,
          170,
          29,
          4,
          18,
          27,
          80,
          210,
          29,
          8,
          14,
          188,
          10,
          12,
          11,
          7,
          8,
          20,
          95,
          187,
          134,
          16,
          20,
          7,
          13,
          8,
          26,
          13,
          9,
          3,
          11,
          3,
          11,
          16,
          3,
          10,
          2,
          258,
          29,
          22,
          140,
          2,
          8,
          142,
          16,
          7,
          9,
          27,
          109,
          18,
          4,
          1,
          5,
          115,
          8,
          10,
          78,
          8,
          14,
          19,
          250,
          25,
          3,
          16
         ],
         "yaxis": "y"
        }
       ],
       "layout": {
        "legend": {
         "title": {
          "text": "Player"
         },
         "tracegroupgap": 0
        },
        "template": {
         "data": {
          "bar": [
           {
            "error_x": {
             "color": "#2a3f5f"
            },
            "error_y": {
             "color": "#2a3f5f"
            },
            "marker": {
             "line": {
              "color": "#E5ECF6",
              "width": 0.5
             },
             "pattern": {
              "fillmode": "overlay",
              "size": 10,
              "solidity": 0.2
             }
            },
            "type": "bar"
           }
          ],
          "barpolar": [
           {
            "marker": {
             "line": {
              "color": "#E5ECF6",
              "width": 0.5
             },
             "pattern": {
              "fillmode": "overlay",
              "size": 10,
              "solidity": 0.2
             }
            },
            "type": "barpolar"
           }
          ],
          "carpet": [
           {
            "aaxis": {
             "endlinecolor": "#2a3f5f",
             "gridcolor": "white",
             "linecolor": "white",
             "minorgridcolor": "white",
             "startlinecolor": "#2a3f5f"
            },
            "baxis": {
             "endlinecolor": "#2a3f5f",
             "gridcolor": "white",
             "linecolor": "white",
             "minorgridcolor": "white",
             "startlinecolor": "#2a3f5f"
            },
            "type": "carpet"
           }
          ],
          "choropleth": [
           {
            "colorbar": {
             "outlinewidth": 0,
             "ticks": ""
            },
            "type": "choropleth"
           }
          ],
          "contour": [
           {
            "colorbar": {
             "outlinewidth": 0,
             "ticks": ""
            },
            "colorscale": [
             [
              0,
              "#0d0887"
             ],
             [
              0.1111111111111111,
              "#46039f"
             ],
             [
              0.2222222222222222,
              "#7201a8"
             ],
             [
              0.3333333333333333,
              "#9c179e"
             ],
             [
              0.4444444444444444,
              "#bd3786"
             ],
             [
              0.5555555555555556,
              "#d8576b"
             ],
             [
              0.6666666666666666,
              "#ed7953"
             ],
             [
              0.7777777777777778,
              "#fb9f3a"
             ],
             [
              0.8888888888888888,
              "#fdca26"
             ],
             [
              1,
              "#f0f921"
             ]
            ],
            "type": "contour"
           }
          ],
          "contourcarpet": [
           {
            "colorbar": {
             "outlinewidth": 0,
             "ticks": ""
            },
            "type": "contourcarpet"
           }
          ],
          "heatmap": [
           {
            "colorbar": {
             "outlinewidth": 0,
             "ticks": ""
            },
            "colorscale": [
             [
              0,
              "#0d0887"
             ],
             [
              0.1111111111111111,
              "#46039f"
             ],
             [
              0.2222222222222222,
              "#7201a8"
             ],
             [
              0.3333333333333333,
              "#9c179e"
             ],
             [
              0.4444444444444444,
              "#bd3786"
             ],
             [
              0.5555555555555556,
              "#d8576b"
             ],
             [
              0.6666666666666666,
              "#ed7953"
             ],
             [
              0.7777777777777778,
              "#fb9f3a"
             ],
             [
              0.8888888888888888,
              "#fdca26"
             ],
             [
              1,
              "#f0f921"
             ]
            ],
            "type": "heatmap"
           }
          ],
          "heatmapgl": [
           {
            "colorbar": {
             "outlinewidth": 0,
             "ticks": ""
            },
            "colorscale": [
             [
              0,
              "#0d0887"
             ],
             [
              0.1111111111111111,
              "#46039f"
             ],
             [
              0.2222222222222222,
              "#7201a8"
             ],
             [
              0.3333333333333333,
              "#9c179e"
             ],
             [
              0.4444444444444444,
              "#bd3786"
             ],
             [
              0.5555555555555556,
              "#d8576b"
             ],
             [
              0.6666666666666666,
              "#ed7953"
             ],
             [
              0.7777777777777778,
              "#fb9f3a"
             ],
             [
              0.8888888888888888,
              "#fdca26"
             ],
             [
              1,
              "#f0f921"
             ]
            ],
            "type": "heatmapgl"
           }
          ],
          "histogram": [
           {
            "marker": {
             "pattern": {
              "fillmode": "overlay",
              "size": 10,
              "solidity": 0.2
             }
            },
            "type": "histogram"
           }
          ],
          "histogram2d": [
           {
            "colorbar": {
             "outlinewidth": 0,
             "ticks": ""
            },
            "colorscale": [
             [
              0,
              "#0d0887"
             ],
             [
              0.1111111111111111,
              "#46039f"
             ],
             [
              0.2222222222222222,
              "#7201a8"
             ],
             [
              0.3333333333333333,
              "#9c179e"
             ],
             [
              0.4444444444444444,
              "#bd3786"
             ],
             [
              0.5555555555555556,
              "#d8576b"
             ],
             [
              0.6666666666666666,
              "#ed7953"
             ],
             [
              0.7777777777777778,
              "#fb9f3a"
             ],
             [
              0.8888888888888888,
              "#fdca26"
             ],
             [
              1,
              "#f0f921"
             ]
            ],
            "type": "histogram2d"
           }
          ],
          "histogram2dcontour": [
           {
            "colorbar": {
             "outlinewidth": 0,
             "ticks": ""
            },
            "colorscale": [
             [
              0,
              "#0d0887"
             ],
             [
              0.1111111111111111,
              "#46039f"
             ],
             [
              0.2222222222222222,
              "#7201a8"
             ],
             [
              0.3333333333333333,
              "#9c179e"
             ],
             [
              0.4444444444444444,
              "#bd3786"
             ],
             [
              0.5555555555555556,
              "#d8576b"
             ],
             [
              0.6666666666666666,
              "#ed7953"
             ],
             [
              0.7777777777777778,
              "#fb9f3a"
             ],
             [
              0.8888888888888888,
              "#fdca26"
             ],
             [
              1,
              "#f0f921"
             ]
            ],
            "type": "histogram2dcontour"
           }
          ],
          "mesh3d": [
           {
            "colorbar": {
             "outlinewidth": 0,
             "ticks": ""
            },
            "type": "mesh3d"
           }
          ],
          "parcoords": [
           {
            "line": {
             "colorbar": {
              "outlinewidth": 0,
              "ticks": ""
             }
            },
            "type": "parcoords"
           }
          ],
          "pie": [
           {
            "automargin": true,
            "type": "pie"
           }
          ],
          "scatter": [
           {
            "fillpattern": {
             "fillmode": "overlay",
             "size": 10,
             "solidity": 0.2
            },
            "type": "scatter"
           }
          ],
          "scatter3d": [
           {
            "line": {
             "colorbar": {
              "outlinewidth": 0,
              "ticks": ""
             }
            },
            "marker": {
             "colorbar": {
              "outlinewidth": 0,
              "ticks": ""
             }
            },
            "type": "scatter3d"
           }
          ],
          "scattercarpet": [
           {
            "marker": {
             "colorbar": {
              "outlinewidth": 0,
              "ticks": ""
             }
            },
            "type": "scattercarpet"
           }
          ],
          "scattergeo": [
           {
            "marker": {
             "colorbar": {
              "outlinewidth": 0,
              "ticks": ""
             }
            },
            "type": "scattergeo"
           }
          ],
          "scattergl": [
           {
            "marker": {
             "colorbar": {
              "outlinewidth": 0,
              "ticks": ""
             }
            },
            "type": "scattergl"
           }
          ],
          "scattermapbox": [
           {
            "marker": {
             "colorbar": {
              "outlinewidth": 0,
              "ticks": ""
             }
            },
            "type": "scattermapbox"
           }
          ],
          "scatterpolar": [
           {
            "marker": {
             "colorbar": {
              "outlinewidth": 0,
              "ticks": ""
             }
            },
            "type": "scatterpolar"
           }
          ],
          "scatterpolargl": [
           {
            "marker": {
             "colorbar": {
              "outlinewidth": 0,
              "ticks": ""
             }
            },
            "type": "scatterpolargl"
           }
          ],
          "scatterternary": [
           {
            "marker": {
             "colorbar": {
              "outlinewidth": 0,
              "ticks": ""
             }
            },
            "type": "scatterternary"
           }
          ],
          "surface": [
           {
            "colorbar": {
             "outlinewidth": 0,
             "ticks": ""
            },
            "colorscale": [
             [
              0,
              "#0d0887"
             ],
             [
              0.1111111111111111,
              "#46039f"
             ],
             [
              0.2222222222222222,
              "#7201a8"
             ],
             [
              0.3333333333333333,
              "#9c179e"
             ],
             [
              0.4444444444444444,
              "#bd3786"
             ],
             [
              0.5555555555555556,
              "#d8576b"
             ],
             [
              0.6666666666666666,
              "#ed7953"
             ],
             [
              0.7777777777777778,
              "#fb9f3a"
             ],
             [
              0.8888888888888888,
              "#fdca26"
             ],
             [
              1,
              "#f0f921"
             ]
            ],
            "type": "surface"
           }
          ],
          "table": [
           {
            "cells": {
             "fill": {
              "color": "#EBF0F8"
             },
             "line": {
              "color": "white"
             }
            },
            "header": {
             "fill": {
              "color": "#C8D4E3"
             },
             "line": {
              "color": "white"
             }
            },
            "type": "table"
           }
          ]
         },
         "layout": {
          "annotationdefaults": {
           "arrowcolor": "#2a3f5f",
           "arrowhead": 0,
           "arrowwidth": 1
          },
          "autotypenumbers": "strict",
          "coloraxis": {
           "colorbar": {
            "outlinewidth": 0,
            "ticks": ""
           }
          },
          "colorscale": {
           "diverging": [
            [
             0,
             "#8e0152"
            ],
            [
             0.1,
             "#c51b7d"
            ],
            [
             0.2,
             "#de77ae"
            ],
            [
             0.3,
             "#f1b6da"
            ],
            [
             0.4,
             "#fde0ef"
            ],
            [
             0.5,
             "#f7f7f7"
            ],
            [
             0.6,
             "#e6f5d0"
            ],
            [
             0.7,
             "#b8e186"
            ],
            [
             0.8,
             "#7fbc41"
            ],
            [
             0.9,
             "#4d9221"
            ],
            [
             1,
             "#276419"
            ]
           ],
           "sequential": [
            [
             0,
             "#0d0887"
            ],
            [
             0.1111111111111111,
             "#46039f"
            ],
            [
             0.2222222222222222,
             "#7201a8"
            ],
            [
             0.3333333333333333,
             "#9c179e"
            ],
            [
             0.4444444444444444,
             "#bd3786"
            ],
            [
             0.5555555555555556,
             "#d8576b"
            ],
            [
             0.6666666666666666,
             "#ed7953"
            ],
            [
             0.7777777777777778,
             "#fb9f3a"
            ],
            [
             0.8888888888888888,
             "#fdca26"
            ],
            [
             1,
             "#f0f921"
            ]
           ],
           "sequentialminus": [
            [
             0,
             "#0d0887"
            ],
            [
             0.1111111111111111,
             "#46039f"
            ],
            [
             0.2222222222222222,
             "#7201a8"
            ],
            [
             0.3333333333333333,
             "#9c179e"
            ],
            [
             0.4444444444444444,
             "#bd3786"
            ],
            [
             0.5555555555555556,
             "#d8576b"
            ],
            [
             0.6666666666666666,
             "#ed7953"
            ],
            [
             0.7777777777777778,
             "#fb9f3a"
            ],
            [
             0.8888888888888888,
             "#fdca26"
            ],
            [
             1,
             "#f0f921"
            ]
           ]
          },
          "colorway": [
           "#636efa",
           "#EF553B",
           "#00cc96",
           "#ab63fa",
           "#FFA15A",
           "#19d3f3",
           "#FF6692",
           "#B6E880",
           "#FF97FF",
           "#FECB52"
          ],
          "font": {
           "color": "#2a3f5f"
          },
          "geo": {
           "bgcolor": "white",
           "lakecolor": "white",
           "landcolor": "#E5ECF6",
           "showlakes": true,
           "showland": true,
           "subunitcolor": "white"
          },
          "hoverlabel": {
           "align": "left"
          },
          "hovermode": "closest",
          "mapbox": {
           "style": "light"
          },
          "paper_bgcolor": "white",
          "plot_bgcolor": "#E5ECF6",
          "polar": {
           "angularaxis": {
            "gridcolor": "white",
            "linecolor": "white",
            "ticks": ""
           },
           "bgcolor": "#E5ECF6",
           "radialaxis": {
            "gridcolor": "white",
            "linecolor": "white",
            "ticks": ""
           }
          },
          "scene": {
           "xaxis": {
            "backgroundcolor": "#E5ECF6",
            "gridcolor": "white",
            "gridwidth": 2,
            "linecolor": "white",
            "showbackground": true,
            "ticks": "",
            "zerolinecolor": "white"
           },
           "yaxis": {
            "backgroundcolor": "#E5ECF6",
            "gridcolor": "white",
            "gridwidth": 2,
            "linecolor": "white",
            "showbackground": true,
            "ticks": "",
            "zerolinecolor": "white"
           },
           "zaxis": {
            "backgroundcolor": "#E5ECF6",
            "gridcolor": "white",
            "gridwidth": 2,
            "linecolor": "white",
            "showbackground": true,
            "ticks": "",
            "zerolinecolor": "white"
           }
          },
          "shapedefaults": {
           "line": {
            "color": "#2a3f5f"
           }
          },
          "ternary": {
           "aaxis": {
            "gridcolor": "white",
            "linecolor": "white",
            "ticks": ""
           },
           "baxis": {
            "gridcolor": "white",
            "linecolor": "white",
            "ticks": ""
           },
           "bgcolor": "#E5ECF6",
           "caxis": {
            "gridcolor": "white",
            "linecolor": "white",
            "ticks": ""
           }
          },
          "title": {
           "x": 0.05
          },
          "xaxis": {
           "automargin": true,
           "gridcolor": "white",
           "linecolor": "white",
           "ticks": "",
           "title": {
            "standoff": 15
           },
           "zerolinecolor": "white",
           "zerolinewidth": 2
          },
          "yaxis": {
           "automargin": true,
           "gridcolor": "white",
           "linecolor": "white",
           "ticks": "",
           "title": {
            "standoff": 15
           },
           "zerolinecolor": "white",
           "zerolinewidth": 2
          }
         }
        },
        "title": {
         "text": "Rising Stars: Increase in Goal-Scoring Ability for Young Players"
        },
        "xaxis": {
         "anchor": "y",
         "domain": [
          0,
          1
         ],
         "title": {
          "text": "Age"
         }
        },
        "yaxis": {
         "anchor": "x",
         "domain": [
          0,
          1
         ],
         "title": {
          "text": "Increase in Goals"
         }
        }
       }
      }
     },
     "metadata": {},
     "output_type": "display_data"
    }
   ],
   "source": [
    "age_threshold = 25\n",
    "\n",
    "# Calculate the difference in goals scored between consecutive seasons for each player\n",
    "df['GoalsDiff'] = df.groupby('Player')['Goals'].diff()\n",
    "\n",
    "# Filter for young players and those who show a significant increase in goals\n",
    "rising_stars = df[(df['Age'] < age_threshold) & (df['GoalsDiff'] > 0)]\n",
    "\n",
    "# Visualize the analysis\n",
    "fig = px.scatter(rising_stars, x='Age', y='GoalsDiff', color='Player', \n",
    "                 title='Rising Stars: Increase in Goal-Scoring Ability for Young Players',\n",
    "                 labels={'Age': 'Age', 'GoalsDiff': 'Increase in Goals', 'Player': 'Player'})\n",
    "fig.show()\n"
   ]
  }
 ],
 "metadata": {
  "kernelspec": {
   "display_name": "Python 3",
   "language": "python",
   "name": "python3"
  },
  "language_info": {
   "codemirror_mode": {
    "name": "ipython",
    "version": 3
   },
   "file_extension": ".py",
   "mimetype": "text/x-python",
   "name": "python",
   "nbconvert_exporter": "python",
   "pygments_lexer": "ipython3",
   "version": "3.11.0"
  }
 },
 "nbformat": 4,
 "nbformat_minor": 2
}
