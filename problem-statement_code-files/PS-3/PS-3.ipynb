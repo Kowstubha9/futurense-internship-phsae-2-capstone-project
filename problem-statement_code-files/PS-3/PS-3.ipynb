{
 "cells": [
  {
   "cell_type": "markdown",
   "id": "91f47d26",
   "metadata": {},
   "source": [
    "<div style=\"background-color: #4b3832; padding: 20px; border-radius: 10px; box-shadow: 5px 5px 10px #888888;\">\n",
    "  <h1 style=\"color: white; font-size: 30px; font-weight: bold; text-align: center; text-shadow: 2px 2px 4px #000000;\">Problem Statement-3: Data Ingestion\n",
    "</h1>\n",
    "</div>"
   ]
  },
  {
   "cell_type": "markdown",
   "id": "6ef16b8c",
   "metadata": {},
   "source": [
    "# Importing Libraries"
   ]
  },
  {
   "cell_type": "code",
   "execution_count": 1,
   "id": "a5a2f8db",
   "metadata": {},
   "outputs": [],
   "source": [
    "import mysql.connector\n",
    "from mysql.connector import Error\n",
    "import pandas as pd\n",
    "import logging"
   ]
  },
  {
   "cell_type": "markdown",
   "id": "8816c1f1",
   "metadata": {},
   "source": [
    "# Connecting to MySQL Server"
   ]
  },
  {
   "cell_type": "code",
   "execution_count": 2,
   "id": "bcaa1367",
   "metadata": {
    "scrolled": false
   },
   "outputs": [
    {
     "name": "stdout",
     "output_type": "stream",
     "text": [
      "MySQL server connection successful\n"
     ]
    }
   ],
   "source": [
    "def create_server_connection(host_name, user_name, user_password,port_no):\n",
    "    connection = None\n",
    "    try:\n",
    "        connection = mysql.connector.connect(\n",
    "            host=host_name,\n",
    "            user=user_name,\n",
    "            password=user_password,\n",
    "            port=port_no\n",
    "        )\n",
    "        print(\"MySQL server connection successful\")\n",
    "    except Error as err:\n",
    "        print(f\"Error: '{err}'\")\n",
    "\n",
    "    return connection\n",
    "\n",
    "connection=create_server_connection(\"localhost\",\"root\",\"Mysqlroot1@3$\",3307)"
   ]
  },
  {
   "cell_type": "markdown",
   "id": "e04b105e",
   "metadata": {},
   "source": [
    "# Creating a Database"
   ]
  },
  {
   "cell_type": "code",
   "execution_count": 3,
   "id": "55b9003e",
   "metadata": {
    "scrolled": false
   },
   "outputs": [
    {
     "name": "stdout",
     "output_type": "stream",
     "text": [
      "Database created successfully\n"
     ]
    }
   ],
   "source": [
    "def create_database(connection, query):\n",
    "    cursor = connection.cursor()\n",
    "    try:\n",
    "        cursor.execute(query)\n",
    "        print(\"Database created successfully\")\n",
    "    except Error as err:\n",
    "        print(f\"Error: '{err}'\")\n",
    "\n",
    "query= \"CREATE DATABASE sports_database\"\n",
    "create_database(connection,query)"
   ]
  },
  {
   "cell_type": "markdown",
   "id": "99138c38",
   "metadata": {},
   "source": [
    "# Connecting to MySQL Database"
   ]
  },
  {
   "cell_type": "code",
   "execution_count": 4,
   "id": "05daf7dd",
   "metadata": {
    "scrolled": true
   },
   "outputs": [
    {
     "name": "stdout",
     "output_type": "stream",
     "text": [
      "MySQL Database connection successful\n"
     ]
    }
   ],
   "source": [
    "def create_db_connection(host_name, user_name, user_password, db_name, port_no):\n",
    "    connection = None\n",
    "    try:\n",
    "        connection = mysql.connector.connect(\n",
    "            host=host_name,\n",
    "            user=user_name,\n",
    "            passwd=user_password,\n",
    "            database=db_name,\n",
    "            port=port_no\n",
    "        )\n",
    "        print(\"MySQL Database connection successful\")\n",
    "    except Error as err:\n",
    "        print(f\"Error: '{err}'\")\n",
    "\n",
    "    return connection\n",
    "\n",
    "connection=create_db_connection(\"localhost\",\"root\",\"Mysqlroot1@3$\",\"sports_database\",3307)"
   ]
  },
  {
   "cell_type": "markdown",
   "id": "f0caccf6",
   "metadata": {},
   "source": [
    "# Creating Query Execution Function"
   ]
  },
  {
   "cell_type": "code",
   "execution_count": 5,
   "id": "6e7cca70",
   "metadata": {},
   "outputs": [],
   "source": [
    "def execute_query(connection, query):\n",
    "    cursor = connection.cursor()\n",
    "    try:\n",
    "        cursor.execute(query)\n",
    "        connection.commit()\n",
    "        print(\"Query successful\")\n",
    "    except Error as err:\n",
    "        print(f\"Error: '{err}'\")"
   ]
  },
  {
   "cell_type": "markdown",
   "id": "363f31d1",
   "metadata": {},
   "source": [
    "# Creating Tables"
   ]
  },
  {
   "cell_type": "code",
   "execution_count": 6,
   "id": "3a75f640",
   "metadata": {
    "scrolled": true
   },
   "outputs": [
    {
     "name": "stdout",
     "output_type": "stream",
     "text": [
      "Query successful\n",
      "Query successful\n",
      "Query successful\n",
      "Query successful\n",
      "Query successful\n",
      "Query successful\n"
     ]
    }
   ],
   "source": [
    "def create_tables(connection):\n",
    "    tables = {\n",
    "        \"Player-info\": \"CREATE TABLE Playerinfo (SerialID INT PRIMARY KEY, Player VARCHAR(60), Team VARCHAR(60), Position VARCHAR(60), Season INT)\",\n",
    "        \"Player-demographics\": \"CREATE TABLE Playerdemographics (SerialID INT, Age INT NOT NULL, Height FLOAT, Weight FLOAT, FOREIGN KEY(SerialID) REFERENCES Playerinfo(SerialID))\",\n",
    "        \"Player-stats\": \"CREATE TABLE Playerstats (SerialID INT, Goals INT, Assists INT, YellowCards INT, RedCards INT, PassCompletionRate FLOAT, DistanceCovered FLOAT, Sprints INT, ShotsOnTarget INT, TacklesWon INT, CleanSheets INT, FOREIGN KEY(SerialID) REFERENCES Playerinfo(SerialID))\",\n",
    "        \"Player-training_info\": \"CREATE TABLE Playertraininginfo (SerialID INT, TrainingHours FLOAT, EffectiveTraining FLOAT, FOREIGN KEY(SerialID) REFERENCES Playerinfo(SerialID))\",\n",
    "        \"Player-performance\": \"CREATE TABLE Playerperformance (SerialID INT, PressurePerformanceImpact FLOAT, MatchPressure INT, FOREIGN KEY(SerialID) REFERENCES Playerinfo(SerialID))\",\n",
    "        \"Player-health\": \"CREATE TABLE Playerhealth (SerialID INT, InjuryHistory INT, PlayerFatigue FLOAT, FatigueInjuryCorrelation FLOAT, FOREIGN KEY(SerialID) REFERENCES Playerinfo(SerialID))\"\n",
    "    }\n",
    "    for table_name, table_query in tables.items():\n",
    "        execute_query(connection, table_query)\n",
    "create_tables(connection)"
   ]
  },
  {
   "cell_type": "markdown",
   "id": "e98269db",
   "metadata": {},
   "source": [
    "# Ingestion of Data"
   ]
  },
  {
   "cell_type": "code",
   "execution_count": 7,
   "id": "82339363",
   "metadata": {},
   "outputs": [],
   "source": [
    "def insert_values(connection, table_name, data):\n",
    "    cursor = connection.cursor()\n",
    "    for i, row in data.iterrows():\n",
    "        columns = ', '.join(row.index)\n",
    "        values_template = ', '.join(['%s'] * len(row))\n",
    "        query = f\"INSERT INTO {table_name} ({columns}) VALUES ({values_template})\"\n",
    "        cursor.execute(query, tuple(row))\n",
    "    connection.commit()"
   ]
  },
  {
   "cell_type": "code",
   "execution_count": 8,
   "id": "7b7dd619",
   "metadata": {},
   "outputs": [],
   "source": [
    "data = pd.read_csv(\"new_sports.csv\")"
   ]
  },
  {
   "cell_type": "markdown",
   "id": "8a447626",
   "metadata": {},
   "source": [
    "## Creation of log file"
   ]
  },
  {
   "cell_type": "code",
   "execution_count": 9,
   "id": "7b45926a",
   "metadata": {},
   "outputs": [],
   "source": [
    "logging.basicConfig(filename='ingestion_info.log', level=logging.INFO, format='%(asctime)s - %(levelname)s - %(message)s')\n",
    "def perform_ingestion():\n",
    "    try:\n",
    "        # Inserting values into the database\n",
    "        logging.info(\"Ingestion process started\")\n",
    "        insert_values(connection, \"Playerinfo\", data[['SerialID', 'Player', 'Team', 'Position', 'Season']])\n",
    "        insert_values(connection, \"Playerdemographics\", data[['SerialID', 'Age', 'Height', 'Weight']])\n",
    "        insert_values(connection, \"Playerstats\", data[['SerialID', 'Goals', 'Assists', 'YellowCards', 'RedCards', 'PassCompletionRate', 'DistanceCovered', 'Sprints', 'ShotsOnTarget', 'TacklesWon', 'CleanSheets']])\n",
    "        insert_values(connection, \"Playertraininginfo\", data[['SerialID', 'TrainingHours', 'EffectiveTraining']])\n",
    "        insert_values(connection, \"Playerperformance\", data[['SerialID', 'PressurePerformanceImpact', 'MatchPressure']])\n",
    "        insert_values(connection, \"Playerhealth\", data[['SerialID', 'InjuryHistory', 'PlayerFatigue', 'FatigueInjuryCorrelation']])\n",
    "        logging.info(\"Ingestion process completed successfully\")\n",
    "    except Exception as e:\n",
    "        logging.error(f\"Error during ingestion process: {str(e)}\")\n",
    "\n",
    "perform_ingestion()"
   ]
  },
  {
   "cell_type": "code",
   "execution_count": null,
   "id": "a99730fc",
   "metadata": {},
   "outputs": [],
   "source": []
  }
 ],
 "metadata": {
  "kernelspec": {
   "display_name": "Python 3 (ipykernel)",
   "language": "python",
   "name": "python3"
  },
  "language_info": {
   "codemirror_mode": {
    "name": "ipython",
    "version": 3
   },
   "file_extension": ".py",
   "mimetype": "text/x-python",
   "name": "python",
   "nbconvert_exporter": "python",
   "pygments_lexer": "ipython3",
   "version": "3.10.9"
  }
 },
 "nbformat": 4,
 "nbformat_minor": 5
}
